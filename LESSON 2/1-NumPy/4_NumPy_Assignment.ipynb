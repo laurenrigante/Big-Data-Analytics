{
 "cells": [
  {
   "cell_type": "markdown",
   "id": "d54d690c-c77c-487a-a715-a2246f55b3f5",
   "metadata": {},
   "source": [
    "## Assignment : Understanding and Applying numpy for big data analysis\n",
    "\n",
    "The goal of this assignment is to provide you with hands-on experience using the NumPy library \n",
    "for numerical computations in Python. You will explore array creation, mathematical operations \r\n",
    "slicing, and aggregations, which are foundational skills for analyzing and processing lar e\r\n",
    "datasets in a Big Data environment"
   ]
  },
  {
   "cell_type": "markdown",
   "id": "0ffeda91-1c03-46ee-a818-97626754138a",
   "metadata": {},
   "source": [
    "Scenario: Data Preparation for Retail Analytics\n",
    "You are a data scientist working for a retail company. The company collects massive amounts of \n",
    "sales data daily, which you need to preprocess and analyze efficiently. This assignment wil \r\n",
    "focus on tasks such as:\r\n",
    "1. Converting raw sales data into structured arrays.\r\n",
    "2. Performing basic mathematical operations for sales insights.\r\n",
    "3. Aggregating sales data across multiple dimensions.\r\n",
    "4. Using slicing and indexing to extract subsets of data for analysis"
   ]
  },
  {
   "cell_type": "markdown",
   "id": "7d3f7eec-824b-443c-905d-cee0c0ac3b72",
   "metadata": {},
   "source": [
    "# Task 1: Array Creation\n",
    "Create a 2D NumPy array to represent the sales data for 7 days across 3 products. Use the\r\n",
    "following sales values:\r\n",
    "o Product A: [100, 150, 200, 250, 300, 350, 400]\r\n",
    "o Product B: [120, 170, 220, 270, 320, 370, 420]\r\n",
    "o Product C: [90, 140, 190, 240, 290, 340, 390]\r\n",
    "o Steps:\r\n",
    "▪ Create the array using np.array.\r\n",
    "▪ Print the shape, dimensions, and total size of the array.\r\n",
    "o Deliverable Example Output:\r\n",
    "Shape: (3, 7)\r\n",
    "Dimensions: 2\r\n",
    "Total elements: 21"
   ]
  },
  {
   "cell_type": "code",
   "execution_count": 1,
   "id": "a4a74362-d248-4930-a95b-0c412ceb8434",
   "metadata": {},
   "outputs": [
    {
     "name": "stdout",
     "output_type": "stream",
     "text": [
      "[[100 150 200 250 300 350 400]\n",
      " [120 170 220 270 320 370 420]\n",
      " [ 90 140 190 240 290 340 390]]\n",
      "(3, 7)\n",
      "2\n",
      "21\n"
     ]
    }
   ],
   "source": [
    "import numpy as np\n",
    "\n",
    "x= np.array([ [100, 150, 200, 250, 300, 350, 400], [120, 170, 220, 270, 320, 370, 420],[90, 140, 190, 240, 290, 340, 390]])\n",
    "print(x)\n",
    "\n",
    "print(x.shape)\n",
    "print(x.ndim)\n",
    "print(x.size)"
   ]
  },
  {
   "cell_type": "markdown",
   "id": "c85c7ac3-4c97-4de9-a5ac-b1ab41259174",
   "metadata": {},
   "source": [
    "# Task 2: Mathematical Operations\n",
    "Calculate the following for the sales data array:\r\n",
    "o Square of each element.\r\n",
    "o Sales data increased by 10% across all products.\r\n",
    "o Boolean array indicating sales greater than 250.\r\n",
    "o Steps:\r\n",
    "▪ Use elementwise operations to compute the results.\r\n",
    "▪ Use logical operations to generate the boolean a\n",
    "ay.\r\n",
    "o Deliverable Example Output:\r\n",
    "Sales increased by 10%:\r\n",
    "[[110. 165. 220. ... ]\r\n",
    "...\r\n",
    "]\r"
   ]
  },
  {
   "cell_type": "code",
   "execution_count": 3,
   "id": "b452d3b4-a9bd-4750-88a2-c4c5c044ffee",
   "metadata": {},
   "outputs": [
    {
     "name": "stdout",
     "output_type": "stream",
     "text": [
      "[[ 10000  22500  40000  62500  90000 122500 160000]\n",
      " [ 14400  28900  48400  72900 102400 136900 176400]\n",
      " [  8100  19600  36100  57600  84100 115600 152100]]\n",
      "[[110. 165. 220. 275. 330. 385. 440.]\n",
      " [132. 187. 242. 297. 352. 407. 462.]\n",
      " [ 99. 154. 209. 264. 319. 374. 429.]]\n",
      "[[False False False False  True  True  True]\n",
      " [False False False  True  True  True  True]\n",
      " [False False False False  True  True  True]]\n"
     ]
    }
   ],
   "source": [
    "# Square of each element\n",
    "print(x**2)\n",
    "\n",
    "# Sales data increased by 10% across all products.\n",
    "print( (x*0.10)+x)\n",
    "\n",
    "# Boolean array indicating sales greater than 250.\n",
    "print( x>250)"
   ]
  },
  {
   "cell_type": "markdown",
   "id": "44a4194e-331c-4a42-a52e-4df6339e104e",
   "metadata": {},
   "source": [
    " # Task 3 Slicing and Indexing\n",
    " 1. Extract the following subsets from the sales array:\r\n",
    "o Sales data for the first 3 days across all products.\r\n",
    "o Sales data for Product B only.\r\n",
    "o Modify the sales data for Product C on Day 7 to 50\n",
    "\r\n",
    "o Deliverable Example Output:\r\n",
    "Sales for the first 3 days:\r\n",
    "[[100 150 200]\r\n",
    "[120 170 220]\r\n",
    "[90 140 190]]\r\n",
    "Updated array:\r\n",
    "[[100 ...]\r\n",
    "[120 ...]\r\n",
    "[90 ... 500]]\r"
   ]
  },
  {
   "cell_type": "code",
   "execution_count": 17,
   "id": "ae3e92aa-c8c3-4531-8f2d-3d78e4f6a3ea",
   "metadata": {},
   "outputs": [
    {
     "name": "stdout",
     "output_type": "stream",
     "text": [
      "[[100 150 200]\n",
      " [120 170 220]\n",
      " [ 90 140 190]]\n",
      "[[100 150 200 250 300 350 400]\n",
      " [120 170 220 270 320 370 420]]\n",
      "[[100 150 200 250 300 350 400]\n",
      " [120 170 220 270 320 370 420]\n",
      " [ 90 140 190 240 290 500 500]]\n"
     ]
    }
   ],
   "source": [
    "# Sales data for the first 3 days across all products.\n",
    "print(x[:, :3]) #extracts first 3 columns for all 3 rows\n",
    "    \n",
    "# Sales data for Product B only.\n",
    "print(x[:2]) #extracts the second row, which represents product B\n",
    "    \n",
    "# Modify the sales data for Product C on Day 7 to 500.\n",
    "x[2,6] =500 # set element in row 3 col 6 to 500\n",
    "print(x)\n"
   ]
  },
  {
   "cell_type": "markdown",
   "id": "f4f7bcf0-291b-49ae-876d-87ccfd3c21f3",
   "metadata": {},
   "source": [
    "# Task 5: Placeholder Arrays\r\n",
    "1. Create the following placeholder arrays for future data:\r\n",
    "o A 3x3 array of zeros to represent sales adjustments.\r\n",
    "o A 4x4 identity matrix for matrix computations.\r\n",
    "o A 2x3 random array for forecasting future sal.\r\n",
    "o Deliverable Example Output:\r\n",
    "Zeros:\r\n",
    "[[0. 0. 0.]\r\n",
    "[0. 0. 0.]\r\n",
    "...\r\n",
    "Random:\r\n",
    "[[0.1 0.5 ...]"
   ]
  },
  {
   "cell_type": "code",
   "execution_count": 20,
   "id": "52da65eb-79d8-4a1a-92c1-f0ad406be362",
   "metadata": {},
   "outputs": [
    {
     "name": "stdout",
     "output_type": "stream",
     "text": [
      "[[0. 0. 0.]\n",
      " [0. 0. 0.]\n",
      " [0. 0. 0.]]\n",
      "[[1. 0. 0. 0.]\n",
      " [0. 1. 0. 0.]\n",
      " [0. 0. 1. 0.]\n",
      " [0. 0. 0. 1.]]\n",
      "[[0.18923788 0.52664555 0.77459448]\n",
      " [0.97697021 0.25134082 0.96631422]]\n"
     ]
    }
   ],
   "source": [
    "# A 3x3 array of zeros to represent sales adjustments.\n",
    "sales_adj= np.zeros((3,3))\n",
    "print(sales_adj)\n",
    "\n",
    "#A 4x4 identity matrix for matrix computations.\n",
    "identity= np.eye(4)\n",
    "print(identity)\n",
    "\n",
    "#A 2x3 random array for forecasting future sales.\n",
    "random=np.random.rand(2,3)\n",
    "print(random)"
   ]
  },
  {
   "cell_type": "markdown",
   "id": "92ce0633-f7a7-46e8-bbdc-e9333ae45ff8",
   "metadata": {},
   "source": [
    "# Task 6: Real-World Application\r\n",
    "1. Using np.linspace, generate 12 evenly spaced timestamps representing monthly sale \r\n",
    "data.\r\n",
    "2. Compute the sine transformation of the sales data for Product A (hint: use np.sin\n",
    "\r\n",
    "o Deliverable Example Output:\r\n",
    "Timestamps: [1, 2, 3, ...]\r\n",
    "Sine-transformed sales:\r\n",
    "[sin(100), sin(150), ...]"
   ]
  },
  {
   "cell_type": "code",
   "execution_count": 22,
   "id": "283991bd-7ee9-43de-8ab9-7a91c4010da7",
   "metadata": {},
   "outputs": [
    {
     "name": "stdout",
     "output_type": "stream",
     "text": [
      "Timestamps: [ 1  2  3  4  5  6  7  8  9 10 11 12]\n",
      "\n",
      "Sine-transformed sales:\n",
      "[-0.50636564 -0.71487643 -0.8732973  -0.97052802 -0.99975584 -0.95893283\n",
      " -0.85091936 -0.68328373 -0.46777181 -0.21948408  0.04418245  0.3047532 ]\n"
     ]
    }
   ],
   "source": [
    "#generate 12 evenly spaces timestamps\n",
    "timestamps = np.linspace(1, 12, 12, dtype=int)  # 12 months\n",
    "\n",
    "#random data for product a\n",
    "sales_data = np.array([100, 150, 200, 250, 300, 350, 400, 450, 500, 550, 600, 650])\n",
    "\n",
    "#sin trf of data\n",
    "sine_trf=np.sin(sales_data)\n",
    "\n",
    "\n",
    "print(\"Timestamps:\", timestamps)\n",
    "print(\"\\nSine-transformed sales:\")\n",
    "print(sine_trf)"
   ]
  },
  {
   "cell_type": "markdown",
   "id": "74f48422-8621-45b2-9b59-ecbf3496d434",
   "metadata": {},
   "source": [
    "Bonus Task\r\n",
    "• Using np.dot or @, compute the dot product of sales data (Product A, B) with  \r\n",
    "transformation matrix:\r\n",
    "[[1.1, 0. ],\r\n",
    "[0.8, 1\n",
    ".2]]\r\n",
    "• Interpret the result in the context of adjusting sales data for a discount scenario."
   ]
  },
  {
   "cell_type": "code",
   "execution_count": 23,
   "id": "caa1a9f4-2360-4626-b91f-1d38658d7328",
   "metadata": {},
   "outputs": [
    {
     "name": "stdout",
     "output_type": "stream",
     "text": [
      "Original Sales Data:\n",
      "[[100 200]\n",
      " [150 250]]\n",
      "\n",
      "Adjusted Sales Data:\n",
      "[[270. 330.]\n",
      " [365. 435.]]\n"
     ]
    }
   ],
   "source": [
    "sales_data = np.array([\n",
    "    [100, 200],  \n",
    "    [150, 250] \n",
    "])\n",
    "\n",
    "transformation_matrix = np.array([\n",
    "    [1.1, 0.9],  \n",
    "    [0.8, 1.2]  \n",
    "])\n",
    "\n",
    "# Compute the dot product to get adjusted sales\n",
    "adjusted_sales = np.dot(sales_data, transformation_matrix)  \n",
    "\n",
    "# Print results\n",
    "print(\"Original Sales Data:\")\n",
    "print(sales_data)\n",
    "\n",
    "print(\"\\nAdjusted Sales Data:\")\n",
    "print(adjusted_sales)"
   ]
  },
  {
   "cell_type": "code",
   "execution_count": null,
   "id": "45f9e5b6-fd35-464b-a843-59cb77b46c46",
   "metadata": {},
   "outputs": [],
   "source": []
  }
 ],
 "metadata": {
  "kernelspec": {
   "display_name": "Python 3 (ipykernel)",
   "language": "python",
   "name": "python3"
  },
  "language_info": {
   "codemirror_mode": {
    "name": "ipython",
    "version": 3
   },
   "file_extension": ".py",
   "mimetype": "text/x-python",
   "name": "python",
   "nbconvert_exporter": "python",
   "pygments_lexer": "ipython3",
   "version": "3.11.6"
  }
 },
 "nbformat": 4,
 "nbformat_minor": 5
}
