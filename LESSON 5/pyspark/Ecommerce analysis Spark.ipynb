{
 "cells": [
  {
   "cell_type": "markdown",
   "id": "b48b7474-96b7-4d5b-a455-ac89b1bd7761",
   "metadata": {},
   "source": [
    "# analyzing ecommerce transactions using spark SQL\n",
    "\n",
    "**SCENARIO**\n",
    "Imagine you are working as a Data Engineer for an e-commerce company like Amazon. The\r\n",
    "company wants to analyze customer transactions and product details to:\r\n",
    "• Calculate total revenue per category\r\n",
    "• Identify high-value customers\r\n",
    "• Find the most popular product categories\r\n",
    "• Compare new and existing customers\r\n",
    "We will use Spark SQL to process and analyze this data efficiently.\r"
   ]
  },
  {
   "cell_type": "markdown",
   "id": "be2c3c51-5ad3-46d8-8474-1b6914d2efc6",
   "metadata": {},
   "source": [
    "# TASK 1: Create  tables\n",
    "- customers table stores details like customer_id,name,country,registration_Date\n",
    "- helps analyze new vs existing customers\n",
    "\n",
    "\n",
    "- transactions table stores purchase details: transaction_id, customer_id, product_id, amount, \n",
    "date- • Helps analyze revenue, customer spending, and tren\n",
    "\n",
    "\n",
    "- products table stores product details: product_id, category, price\r",
    "-• Helps analyze popular products and revenue per categoryds\r"
   ]
  },
  {
   "cell_type": "code",
   "execution_count": 1,
   "id": "45eca6e2-35b1-42d1-b9d9-498acdb60a21",
   "metadata": {},
   "outputs": [],
   "source": [
    "from pyspark.sql import SparkSession\n",
    "\n",
    "spark= SparkSession.builder.appName(\"Ecommerce_Analysis\").getOrCreate()\n",
    "\n",
    "#  Create Customers Table\n",
    "customers_data = [\n",
    " (1, \"Alice\", \"USA\", \"2022-01-10\"),\n",
    " (2, \"Bob\", \"Canada\", \"2021-05-15\"),\n",
    " (3, \"Charlie\", \"UK\", \"2023-07-20\"),\n",
    " (4, \"David\", \"Germany\", \"2022-09-30\"),\n",
    " (5, \"Eve\", \"France\", \"2021-11-25\"),\n",
    "]\n",
    "customers_columns = [\"customer_id\", \"name\", \"country\", \"registration_date\"]\n",
    "customers_df = spark.createDataFrame(customers_data, customers_columns)\n",
    "customers_df.createOrReplaceTempView(\"customers\")\n",
    "\n",
    "#  Create Transactions Table\n",
    "transactions_data = [\n",
    " (101, 1, 201, 100.0, \"2024-01-10\"),\n",
    " (102, 2, 202, 250.0, \"2024-01-12\"),\n",
    " (103, 3, 203, 300.0, \"2024-01-15\"),\n",
    " (104, 4, 201, 150.0, \"2024-01-18\"),\n",
    " (105, 5, 204, 500.0, \"2024-01-20\"),\n",
    " (106, 1, 202, 200.0, \"2024-01-22\"),\n",
    "]\n",
    "transactions_columns = [\"transaction_id\", \"customer_id\", \"product_id\",\n",
    "\"amount\", \"date\"]\n",
    "transactions_df = spark.createDataFrame(transactions_data,\n",
    "transactions_columns)\n",
    "transactions_df.createOrReplaceTempView(\"transactions\")\n",
    "\n",
    "# Create Products Table\n",
    "products_data = [\n",
    " (201, \"Electronics\", 100),\n",
    " (202, \"Clothing\", 200),\n",
    " (203, \"Books\", 300),\n",
    " (204, \"Home Appliances\", 500),\n",
    "]\n",
    "products_columns = [\"product_id\", \"category\", \"price\"]\n",
    "products_df = spark.createDataFrame(products_data, products_columns)\n",
    "products_df.createOrReplaceTempView(\"products\")\n"
   ]
  },
  {
   "cell_type": "markdown",
   "id": "da9e4239-a61c-469f-a4ee-11ff14fff1a6",
   "metadata": {},
   "source": [
    "# TASK 2: SPARK SQL for ecommerce analysis"
   ]
  },
  {
   "cell_type": "code",
   "execution_count": 2,
   "id": "13513fd0-8ddf-4140-ba27-746f0698a486",
   "metadata": {},
   "outputs": [
    {
     "name": "stdout",
     "output_type": "stream",
     "text": [
      "Total Revenue per Category:\n",
      "+---------------+-------------+\n",
      "|       category|total_revenue|\n",
      "+---------------+-------------+\n",
      "|Home Appliances|        500.0|\n",
      "|       Clothing|        450.0|\n",
      "|          Books|        300.0|\n",
      "|    Electronics|        250.0|\n",
      "+---------------+-------------+\n",
      "\n"
     ]
    }
   ],
   "source": [
    "# Total Revenue per Product Category\n",
    "revenue_query = \"\"\"\n",
    " SELECT p.category, SUM(t.amount) AS total_revenue\n",
    " FROM transactions t\n",
    " JOIN products p ON t.product_id = p.product_id\n",
    " GROUP BY p.category\n",
    " ORDER BY total_revenue DESC\n",
    "\"\"\"\n",
    "revenue_df = spark.sql(revenue_query)\n",
    "print(\"Total Revenue per Category:\")\n",
    "revenue_df.show()"
   ]
  },
  {
   "cell_type": "code",
   "execution_count": 3,
   "id": "7a87f8e1-377d-407e-80ca-1804185f4922",
   "metadata": {},
   "outputs": [
    {
     "name": "stdout",
     "output_type": "stream",
     "text": [
      "High-Value Customers:\n",
      "+-----------+----+-------+-----------+\n",
      "|customer_id|name|country|total_spent|\n",
      "+-----------+----+-------+-----------+\n",
      "|          5| Eve| France|      500.0|\n",
      "+-----------+----+-------+-----------+\n",
      "\n"
     ]
    }
   ],
   "source": [
    "# Identify High-Value Customers (Customers Who Spent More Than $300)\n",
    "high_value_customers_query = \"\"\"\n",
    " SELECT c.customer_id, c.name, c.country, SUM(t.amount) AS total_spent\n",
    " FROM transactions t\n",
    " JOIN customers c ON t.customer_id = c.customer_id\n",
    " GROUP BY c.customer_id, c.name, c.country\n",
    " HAVING total_spent > 300\n",
    " ORDER BY total_spent DESC\n",
    "\"\"\"\n",
    "high_value_customers_df = spark.sql(high_value_customers_query)\n",
    "print(\"High-Value Customers:\")\n",
    "high_value_customers_df.show()"
   ]
  },
  {
   "cell_type": "code",
   "execution_count": 5,
   "id": "843ee758-5d86-426b-86c5-3592a269678f",
   "metadata": {},
   "outputs": [
    {
     "name": "stdout",
     "output_type": "stream",
     "text": [
      "Most Popular Product Categories:\n",
      "+---------------+-------------+\n",
      "|       category|num_purchases|\n",
      "+---------------+-------------+\n",
      "|    Electronics|            2|\n",
      "|       Clothing|            2|\n",
      "|          Books|            1|\n",
      "|Home Appliances|            1|\n",
      "+---------------+-------------+\n",
      "\n"
     ]
    }
   ],
   "source": [
    "#  Find the Most Popular Product Category (Based on Number of Purchases)\n",
    "popular_category_query = \"\"\"\n",
    " SELECT p.category, COUNT(t.transaction_id) AS num_purchases\n",
    " FROM transactions t\n",
    " JOIN products p ON t.product_id = p.product_id\n",
    " GROUP BY p.category\n",
    " ORDER BY num_purchases DESC\n",
    "\"\"\"\n",
    "popular_category_df = spark.sql(popular_category_query)\n",
    "print(\"Most Popular Product Categories:\")\n",
    "popular_category_df.show()\n"
   ]
  },
  {
   "cell_type": "code",
   "execution_count": 6,
   "id": "0476d134-e877-492e-a94c-df431d81fd0d",
   "metadata": {},
   "outputs": [
    {
     "name": "stdout",
     "output_type": "stream",
     "text": [
      "Comparison of New vs. Existing Customers:\n",
      "+-----------------+--------------+-----------+\n",
      "|    customer_type|customer_count|total_spent|\n",
      "+-----------------+--------------+-----------+\n",
      "|Existing Customer|             4|     1200.0|\n",
      "|     New Customer|             1|      300.0|\n",
      "+-----------------+--------------+-----------+\n",
      "\n"
     ]
    }
   ],
   "source": [
    "# Compare New vs. Existing Customers\n",
    "new_vs_existing_query = \"\"\"\n",
    " SELECT\n",
    " CASE\n",
    " WHEN c.registration_date >= '2023-01-01' THEN 'New Customer'\n",
    " ELSE 'Existing Customer'\n",
    " END AS customer_type,\n",
    " COUNT(DISTINCT t.customer_id) AS customer_count,\n",
    " SUM(t.amount) AS total_spent\n",
    " FROM transactions t\n",
    " JOIN customers c ON t.customer_id = c.customer_id\n",
    " GROUP BY customer_type\n",
    "\"\"\"\n",
    "new_vs_existing_df = spark.sql(new_vs_existing_query)\n",
    "print(\"Comparison of New vs. Existing Customers:\")\n",
    "new_vs_existing_df.show()"
   ]
  },
  {
   "cell_type": "markdown",
   "id": "5ae49bdd-e04f-42a0-b27a-84d5505337ba",
   "metadata": {},
   "source": [
    "# Summary of insights\n",
    "- Home Appliances generate the most revenue but are not the most frequently\r\n",
    "purchased.- \n",
    "• High-value customers like Eve (France) should be targeted with premium promotions-\r\n",
    "• Clothing & Electronics are the most purchased product categorig- 5\r\n",
    "• Existing customers contribute more revenue, but new customers need incentives to\r\n",
    "increase spending."
   ]
  }
 ],
 "metadata": {
  "kernelspec": {
   "display_name": "Python 3 (ipykernel)",
   "language": "python",
   "name": "python3"
  },
  "language_info": {
   "codemirror_mode": {
    "name": "ipython",
    "version": 3
   },
   "file_extension": ".py",
   "mimetype": "text/x-python",
   "name": "python",
   "nbconvert_exporter": "python",
   "pygments_lexer": "ipython3",
   "version": "3.11.6"
  }
 },
 "nbformat": 4,
 "nbformat_minor": 5
}
