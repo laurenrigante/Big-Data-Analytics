{
 "cells": [
  {
   "cell_type": "markdown",
   "id": "e1d99007-4106-4328-90df-b701e3008fbc",
   "metadata": {},
   "source": [
    "# Learning spark sql"
   ]
  },
  {
   "cell_type": "code",
   "execution_count": 1,
   "id": "03eb5715-fa34-4ba3-af05-3165eeb2f8ac",
   "metadata": {},
   "outputs": [
    {
     "name": "stdout",
     "output_type": "stream",
     "text": [
      "+-------+---+\n",
      "|   Name|Age|\n",
      "+-------+---+\n",
      "|    Bob| 30|\n",
      "|Charlie| 35|\n",
      "+-------+---+\n",
      "\n"
     ]
    }
   ],
   "source": [
    "from pyspark.sql import SparkSession\n",
    "\n",
    "spark = SparkSession.builder.appName(\"SparkSQLExample\").getOrCreate()\n",
    "\n",
    "data = [(\"Alice\", 25), (\"Bob\", 30), (\"Charlie\", 35)]\n",
    "columns = [\"Name\", \"Age\"]\n",
    "\n",
    "df = spark.createDataFrame(data, columns)\n",
    "df.createOrReplaceTempView(\"people\")\n",
    "\n",
    "result = spark.sql(\"SELECT * FROM people WHERE Age > 28\")\n",
    "result.show()"
   ]
  },
  {
   "cell_type": "code",
   "execution_count": 2,
   "id": "58f187d6-01f5-4935-8ba0-c4dacbc99add",
   "metadata": {},
   "outputs": [
    {
     "name": "stdout",
     "output_type": "stream",
     "text": [
      "+----------+--------------+----------+\n",
      "|department|employee_count|avg_salary|\n",
      "+----------+--------------+----------+\n",
      "|   Finance|             2|   90000.0|\n",
      "|        IT|             1|   90000.0|\n",
      "+----------+--------------+----------+\n",
      "\n"
     ]
    }
   ],
   "source": [
    "from pyspark.sql import SparkSession\n",
    "\n",
    "spark = SparkSession.builder.appName(\"AdvancedSparkSQL\").getOrCreate()\n",
    "\n",
    "data = [\n",
    " {\"name\": \"Alice\", \"age\": 25, \"department\": \"HR\", \"salary\": 50000},\n",
    " {\"name\": \"Bob\", \"age\": 30, \"department\": \"IT\", \"salary\": 70000},\n",
    " {\"name\": \"Charlie\", \"age\": 35, \"department\": \"Finance\", \"salary\": 80000},\n",
    " {\"name\": \"David\", \"age\": 40, \"department\": \"IT\", \"salary\": 90000},\n",
    " {\"name\": \"Eve\", \"age\": 45, \"department\": \"Finance\", \"salary\": 100000},\n",
    "]\n",
    "\n",
    "df = spark.createDataFrame(data)\n",
    "df.createOrReplaceTempView(\"employees\")\n",
    "\n",
    "query = \"\"\"\n",
    " SELECT department, COUNT(*) AS employee_count, AVG(salary) AS avg_salary\n",
    " FROM employees\n",
    " WHERE age > 30\n",
    " GROUP BY department\n",
    " ORDER BY avg_salary DESC\n",
    "\"\"\"\n",
    "\n",
    "result = spark.sql(query)\n",
    "result.show()\n"
   ]
  },
  {
   "cell_type": "code",
   "execution_count": 7,
   "id": "bb67e75f-775c-42b3-b4dc-e4866c89ed98",
   "metadata": {},
   "outputs": [
    {
     "name": "stdout",
     "output_type": "stream",
     "text": [
      "Joined Table:\n",
      "+------+-------+----------+------+\n",
      "|emp_id|   name|department|salary|\n",
      "+------+-------+----------+------+\n",
      "|     1|  Alice|        HR| 50000|\n",
      "|     2|    Bob|        IT| 70000|\n",
      "|     3|Charlie|   Finance| 80000|\n",
      "|     4|  David|        IT| 90000|\n",
      "|     5|    Eve|   Finance|100000|\n",
      "+------+-------+----------+------+\n",
      "\n"
     ]
    }
   ],
   "source": [
    "from pyspark.sql import SparkSession\n",
    "\n",
    "spark = SparkSession.builder.appName(\"SparkSQL_Join_Union\").getOrCreate()\n",
    "employees_data = [\n",
    " (1, \"Alice\", \"HR\"),\n",
    " (2, \"Bob\", \"IT\"),\n",
    " (3, \"Charlie\", \"Finance\"),\n",
    " (4, \"David\", \"IT\"),\n",
    " (5, \"Eve\", \"Finance\"),\n",
    "]\n",
    "\n",
    "employees_columns = [\"emp_id\", \"name\", \"department\"]\n",
    "employees_df = spark.createDataFrame(employees_data, employees_columns)\n",
    "employees_df.createOrReplaceTempView(\"employees\")\n",
    "\n",
    "\n",
    "salaries_data = [\n",
    " (1, 50000),\n",
    " (2, 70000),\n",
    " (3, 80000),\n",
    " (4, 90000),\n",
    " (5, 100000),\n",
    "]\n",
    "salaries_columns = [\"emp_id\", \"salary\"]\n",
    "salaries_df = spark.createDataFrame(salaries_data, salaries_columns)\n",
    "salaries_df.createOrReplaceTempView(\"salaries\")\n",
    "\n",
    "join_query = \"\"\"\n",
    " SELECT e.emp_id, e.name, e.department, s.salary\n",
    " FROM employees e\n",
    " JOIN salaries s\n",
    " ON e.emp_id = s.emp_id\n",
    "\"\"\"\n",
    "joined_df = spark.sql(join_query)\n",
    "print(\"Joined Table:\")\n",
    "joined_df.show()"
   ]
  },
  {
   "cell_type": "code",
   "execution_count": 14,
   "id": "6d883cac-2b94-4d35-a662-dde8330be848",
   "metadata": {},
   "outputs": [
    {
     "name": "stdout",
     "output_type": "stream",
     "text": [
      "Union Table:\n",
      "+------+-------+----------+------+\n",
      "|emp_id|   name|department|salary|\n",
      "+------+-------+----------+------+\n",
      "|     5|    Eve|   Finance|100000|\n",
      "|     3|Charlie|   Finance| 80000|\n",
      "|     2|    Bob|        IT| 70000|\n",
      "|     4|  David|        IT| 90000|\n",
      "|     1|  Alice|        HR| 50000|\n",
      "|     6|  Frank| Marketing|110000|\n",
      "|     7|  Grace|        HR| 60000|\n",
      "+------+-------+----------+------+\n",
      "\n"
     ]
    }
   ],
   "source": [
    "new_employees_data = [\n",
    " (6, \"Frank\", \"Marketing\", 110000),\n",
    " (7, \"Grace\", \"HR\", 60000),\n",
    "]\n",
    "new_employees_columns = [\"emp_id\", \"name\", \"department\", \"salary\"]\n",
    "new_employees_df = spark.createDataFrame(new_employees_data,new_employees_columns)\n",
    "new_employees_df.createOrReplaceTempView(\"new_employees_df\")\n",
    "\n",
    "union_query = \"\"\"\n",
    " SELECT emp_id, name, department, salary FROM (\n",
    " SELECT e.emp_id, e.name, e.department, s.salary\n",
    " FROM employees e\n",
    " JOIN salaries s ON e.emp_id = s.emp_id\n",
    " )\n",
    " UNION\n",
    " SELECT emp_id, name, department, salary FROM new_employees_df\n",
    "\"\"\"\n",
    "union_df = spark.sql(union_query)\n",
    "print(\"Union Table:\")\n",
    "union_df.show()"
   ]
  },
  {
   "cell_type": "code",
   "execution_count": null,
   "id": "16258f49-1fd4-4213-9ad7-cc5c421ce10a",
   "metadata": {},
   "outputs": [],
   "source": []
  }
 ],
 "metadata": {
  "kernelspec": {
   "display_name": "Python 3 (ipykernel)",
   "language": "python",
   "name": "python3"
  },
  "language_info": {
   "codemirror_mode": {
    "name": "ipython",
    "version": 3
   },
   "file_extension": ".py",
   "mimetype": "text/x-python",
   "name": "python",
   "nbconvert_exporter": "python",
   "pygments_lexer": "ipython3",
   "version": "3.11.6"
  }
 },
 "nbformat": 4,
 "nbformat_minor": 5
}
