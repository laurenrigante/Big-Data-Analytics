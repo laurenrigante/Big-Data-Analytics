{
 "cells": [
  {
   "cell_type": "markdown",
   "id": "714fc80a-ae28-4fb3-904f-4e5c447a9a35",
   "metadata": {},
   "source": [
    "# Real Estate Prediction and Streaming Analytics\n",
    "\n",
    "DATASET DESCRIPTION\n",
    "The dataset (housing_data.csv) consists of the following columns:\r\n",
    "• Price: Target variable (House price).\r\n",
    "• Size (sqft): Square footage of the house.\r\n",
    "• Bedrooms: Number of bedrooms.\r\n",
    "• Bathrooms: Number of bathrooms.\r\n",
    "• Location_Score: Neighborhood desirability score (1-10).\r\n",
    "• Age: Age of the house (years).\r"
   ]
  },
  {
   "cell_type": "code",
   "execution_count": 2,
   "id": "34ae8048-4939-4854-96b0-f6c1ce172d75",
   "metadata": {},
   "outputs": [],
   "source": [
    "!pip install -q findspark"
   ]
  },
  {
   "cell_type": "code",
   "execution_count": 3,
   "id": "4b26ff45-d584-4608-af80-51eee5cd6f8c",
   "metadata": {},
   "outputs": [],
   "source": [
    "import findspark\n",
    "findspark.init()\n"
   ]
  },
  {
   "cell_type": "code",
   "execution_count": 4,
   "id": "a704c518-e3d5-486d-a33d-3920a3f50c56",
   "metadata": {},
   "outputs": [
    {
     "data": {
      "text/html": [
       "\n",
       "            <div>\n",
       "                <p><b>SparkSession - in-memory</b></p>\n",
       "                \n",
       "        <div>\n",
       "            <p><b>SparkContext</b></p>\n",
       "\n",
       "            <p><a href=\"http://9855dfa244af:4040\">Spark UI</a></p>\n",
       "\n",
       "            <dl>\n",
       "              <dt>Version</dt>\n",
       "                <dd><code>v3.5.0</code></dd>\n",
       "              <dt>Master</dt>\n",
       "                <dd><code>local[*]</code></dd>\n",
       "              <dt>AppName</dt>\n",
       "                <dd><code>pyspark-shell</code></dd>\n",
       "            </dl>\n",
       "        </div>\n",
       "        \n",
       "            </div>\n",
       "        "
      ],
      "text/plain": [
       "<pyspark.sql.session.SparkSession at 0x7fce4471ab90>"
      ]
     },
     "execution_count": 4,
     "metadata": {},
     "output_type": "execute_result"
    }
   ],
   "source": [
    "from pyspark.sql import SparkSession\n",
    "spark = SparkSession.builder.master(\"local[*]\").getOrCreate()\n",
    "spark\n"
   ]
  },
  {
   "cell_type": "markdown",
   "id": "54081255-dc2d-434d-8097-f5470214e752",
   "metadata": {},
   "source": [
    "# Phase 1 : Data Preparation and Exploration ( PySpark ) \n",
    "\n",
    "**Task 1: Load and explore the data**\n",
    "- load dataset into a pyspark dataframe\n",
    "- display summary stats and cehck for missing values\n",
    "- Replace missing values with appropriate measures (mean, median, or a default)\n",
    "- convert price and other numberical columns to the appropriate data type\n"
   ]
  },
  {
   "cell_type": "code",
   "execution_count": 30,
   "id": "6f95d217-96f5-4e19-b9ea-e89c7c6a3174",
   "metadata": {},
   "outputs": [
    {
     "name": "stdout",
     "output_type": "stream",
     "text": [
      "+-----------+--------+---------+--------------+---+------+\n",
      "|Size (sqft)|Bedrooms|Bathrooms|Location_Score|Age| Price|\n",
      "+-----------+--------+---------+--------------+---+------+\n",
      "|       1360|       1|        3|             5|  2|158336|\n",
      "|       4272|       1|        2|             6| 41|251463|\n",
      "|       3592|       3|        2|             4| 53|203428|\n",
      "|        966|       5|        2|             4| 38|100910|\n",
      "|       4926|       4|        1|             4| 40|316409|\n",
      "|       3944|       1|        2|             2| 48|183604|\n",
      "|       3671|       4|        2|             4| 10|305304|\n",
      "|       3419|       1|        2|             1| 38|175073|\n",
      "|        630|       1|        3|             6| 23| 74297|\n",
      "|       2185|       1|        3|             1| 59| 40815|\n",
      "|       1269|       5|        1|            10| 45|114709|\n",
      "|       2891|       2|        1|             6| 18|206371|\n",
      "|       2933|       4|        3|             1|  3|303013|\n",
      "|       1684|       5|        3|             6| 25|181570|\n",
      "|       3885|       5|        3|            10| 37|323934|\n",
      "|       4617|       5|        2|             8| 41|311091|\n",
      "|       3404|       5|        2|             2| 31|249459|\n",
      "|        974|       5|        3|             2| 38| 90367|\n",
      "|       1582|       3|        2|             4| 44|112861|\n",
      "|       3058|       4|        2|             3| 45|203985|\n",
      "+-----------+--------+---------+--------------+---+------+\n",
      "only showing top 20 rows\n",
      "\n"
     ]
    }
   ],
   "source": [
    "#loading the dataset into a pyspark dataframe and displaying it\n",
    "#sets the first row as the column headers\n",
    "housing_df=spark.read.format(\"csv\").option(\"header\",True).load(\"housing_data (1).csv\")\n",
    "\n",
    "housing_df.show()"
   ]
  },
  {
   "cell_type": "code",
   "execution_count": 31,
   "id": "8a499235-41a2-44fa-8cea-811603f5b0fc",
   "metadata": {},
   "outputs": [
    {
     "name": "stdout",
     "output_type": "stream",
     "text": [
      "+-------+------------------+------------------+------------------+------------------+------------------+-----------------+\n",
      "|summary|       Size (sqft)|          Bedrooms|         Bathrooms|    Location_Score|               Age|            Price|\n",
      "+-------+------------------+------------------+------------------+------------------+------------------+-----------------+\n",
      "|  count|               500|               500|               500|               500|               500|              500|\n",
      "|   mean|           2805.66|              2.97|             1.986|             5.424|            28.706|       204509.928|\n",
      "| stddev|1261.3562683363261|1.4523493509739835|0.8216777401251871|2.9060478709850797|17.375020768142594|95841.33687437033|\n",
      "|    min|              1002|                 1|                 1|                 1|                 0|           -10754|\n",
      "|    max|               999|                 5|                 3|                 9|                 9|            99583|\n",
      "+-------+------------------+------------------+------------------+------------------+------------------+-----------------+\n",
      "\n"
     ]
    }
   ],
   "source": [
    "# display summary stats and cehck for missing values\n",
    "housing_df.describe().show()"
   ]
  },
  {
   "cell_type": "code",
   "execution_count": 32,
   "id": "e27b3929-d5f5-4985-806f-edb4b73e1d84",
   "metadata": {},
   "outputs": [
    {
     "name": "stdout",
     "output_type": "stream",
     "text": [
      "+-----------+--------+---------+--------------+---+-----+\n",
      "|Size (sqft)|Bedrooms|Bathrooms|Location_Score|Age|Price|\n",
      "+-----------+--------+---------+--------------+---+-----+\n",
      "|          0|       0|        0|             0|  0|    0|\n",
      "+-----------+--------+---------+--------------+---+-----+\n",
      "\n"
     ]
    }
   ],
   "source": [
    "from pyspark.sql.functions import *\n",
    "\n",
    "#checking for null values, counting nulls in each colums\n",
    "null_counts = housing_df.select([sum(col(c).isNull().cast(\"int\")).alias(c) for c in housing_df.columns])\n",
    "null_counts.show()"
   ]
  },
  {
   "cell_type": "code",
   "execution_count": 33,
   "id": "e87e4144-5727-4b79-a7db-b3a6e3ce7f84",
   "metadata": {},
   "outputs": [],
   "source": [
    "# convert price and other numberical columns to the appropriate data type\n",
    "housing_df = housing_df.withColumn(\"Price\", col(\"Price\").cast(\"double\")) \\\n",
    "                       .withColumn(\"Size (sqft)\", col(\"Size (sqft)\").cast(\"double\")) \\\n",
    "                       .withColumn(\"Bedrooms\", col(\"Bedrooms\").cast(\"int\")) \\\n",
    "                       .withColumn(\"Bathrooms\", col(\"Bathrooms\").cast(\"int\")) \\\n",
    "                       .withColumn(\"Location_Score\", col(\"Location_Score\").cast(\"int\")) \\\n",
    "                       .withColumn(\"Age\", col(\"Age\").cast(\"int\"))"
   ]
  },
  {
   "cell_type": "markdown",
   "id": "7da2f708-2ca4-4148-a682-16f199124c62",
   "metadata": {},
   "source": [
    "# Phase 2: Regression Analysis (House Price Prediction)\n",
    "**Task 2: Train regression models**\n",
    "- split data into train and test\n",
    "- train a simple linear regression model using size\n",
    "- train a multiple linear regression model using all features\n",
    "- evaluate models using MAE MSE and RMSE\n",
    "- "
   ]
  },
  {
   "cell_type": "code",
   "execution_count": 35,
   "id": "7d4e7047-b1eb-491d-9508-6eb026a89e74",
   "metadata": {},
   "outputs": [],
   "source": [
    "from pyspark.ml.regression import LinearRegression\n",
    "from pyspark.ml.feature import VectorAssembler\n",
    "from pyspark.sql import SparkSession\n",
    "from pyspark.ml.evaluation import RegressionEvaluator\n",
    "\n",
    "housing_df_simple = housing_df\n",
    "\n",
    "assembler_simple = VectorAssembler(inputCols=[\"Size (sqft)\"], outputCol=\"features\")\n",
    "housing_df_simple = assembler_simple.transform(housing_df_simple)\n",
    "\n",
    "train_df, test_df = housing_df_simple.randomSplit([0.8, 0.2], seed=42)\n",
    "\n",
    "lr_simple = LinearRegression(featuresCol=\"features\", labelCol=\"Price\")\n",
    "lr_model_simple = lr_simple.fit(train_df)\n",
    "\n",
    "predictions_simple = lr_model_simple.transform(test_df)\n"
   ]
  },
  {
   "cell_type": "code",
   "execution_count": 36,
   "id": "eee0f503-1cde-43af-8f5b-19353419a773",
   "metadata": {},
   "outputs": [
    {
     "name": "stdout",
     "output_type": "stream",
     "text": [
      "Simple Linear Regression Model (Size only):\n",
      "Mean Absolute Error (MAE): 41942.70\n",
      "Mean Squared Error (MSE): 2537222031.99\n",
      "Root Mean Squared Error (RMSE): 50370.85\n",
      "\n"
     ]
    }
   ],
   "source": [
    "evaluator_mae_simple = RegressionEvaluator(labelCol=\"Price\", predictionCol=\"prediction\", metricName=\"mae\")\n",
    "evaluator_mse_simple = RegressionEvaluator(labelCol=\"Price\", predictionCol=\"prediction\", metricName=\"mse\")\n",
    "evaluator_rmse_simple = RegressionEvaluator(labelCol=\"Price\", predictionCol=\"prediction\", metricName=\"rmse\")\n",
    "\n",
    "mae_simple = evaluator_mae_simple.evaluate(predictions_simple)\n",
    "mse_simple = evaluator_mse_simple.evaluate(predictions_simple)\n",
    "rmse_simple = evaluator_rmse_simple.evaluate(predictions_simple)\n",
    "\n",
    "print(f\"Simple Linear Regression Model (Size only):\")\n",
    "print(f\"Mean Absolute Error (MAE): {mae_simple:.2f}\")\n",
    "print(f\"Mean Squared Error (MSE): {mse_simple:.2f}\")\n",
    "print(f\"Root Mean Squared Error (RMSE): {rmse_simple:.2f}\")\n",
    "print()"
   ]
  },
  {
   "cell_type": "code",
   "execution_count": 37,
   "id": "2609460b-1cff-4705-acc1-72b1f28fc76c",
   "metadata": {},
   "outputs": [],
   "source": [
    "housing_df_multiple = housing_df\n",
    "\n",
    "# Assemble features for the multiple linear regression model (using all features)\n",
    "assembler_all_features = VectorAssembler(inputCols=[\"Size (sqft)\", \"Bedrooms\", \"Bathrooms\", \"Location_Score\", \"Age\"], outputCol=\"features_all\")\n",
    "housing_df_multiple = assembler_all_features.transform(housing_df_multiple)\n",
    "\n",
    "train_df, test_df = housing_df_multiple.randomSplit([0.8, 0.2], seed=42) \n",
    "\n",
    "lr_all_features = LinearRegression(featuresCol=\"features_all\", labelCol=\"Price\")\n",
    "lr_model_all_features = lr_all_features.fit(train_df)\n",
    "\n",
    "predictions_all_features = lr_model_all_features.transform(test_df)\n"
   ]
  },
  {
   "cell_type": "code",
   "execution_count": 38,
   "id": "25fce92b-25c8-4504-a8c9-f7f53ccd2cd5",
   "metadata": {},
   "outputs": [
    {
     "name": "stdout",
     "output_type": "stream",
     "text": [
      "Multiple Linear Regression Model (All Features):\n",
      "Mean Absolute Error (MAE): 16291.59\n",
      "Mean Squared Error (MSE): 343785518.21\n",
      "Root Mean Squared Error (RMSE): 18541.45\n"
     ]
    }
   ],
   "source": [
    "evaluator_mae_all = RegressionEvaluator(labelCol=\"Price\", predictionCol=\"prediction\", metricName=\"mae\")\n",
    "evaluator_mse_all = RegressionEvaluator(labelCol=\"Price\", predictionCol=\"prediction\", metricName=\"mse\")\n",
    "evaluator_rmse_all = RegressionEvaluator(labelCol=\"Price\", predictionCol=\"prediction\", metricName=\"rmse\")\n",
    "\n",
    "mae_all = evaluator_mae_all.evaluate(predictions_all_features)\n",
    "mse_all = evaluator_mse_all.evaluate(predictions_all_features)\n",
    "rmse_all = evaluator_rmse_all.evaluate(predictions_all_features)\n",
    "\n",
    "print(f\"Multiple Linear Regression Model (All Features):\")\n",
    "print(f\"Mean Absolute Error (MAE): {mae_all:.2f}\")\n",
    "print(f\"Mean Squared Error (MSE): {mse_all:.2f}\")\n",
    "print(f\"Root Mean Squared Error (RMSE): {rmse_all:.2f}\")"
   ]
  },
  {
   "cell_type": "markdown",
   "id": "23de4372-ae31-4669-ae68-0008d8024b12",
   "metadata": {},
   "source": [
    "MAE: the average magnitude of errors, so a lower value is better.  The MAE decreased in the multiple linear model, singifying that using morefeatures has helped make more accurate predictions\n",
    "\n",
    "\n",
    "MSE: penalizes larger errors more than mae, a smaller mse means the model is better at predicting. The MSE is significantly lower in he multiple linear rergression indictation additional features have imporoved the models ability to fit the data\n",
    "\n",
    "RMSE: also lower in the multiple regression model, meaning the predictions are closer to the actual house prices"
   ]
  },
  {
   "cell_type": "markdown",
   "id": "74ad5249-d0de-4a19-aea9-a4dc3199364e",
   "metadata": {},
   "source": [
    "# Phase 3 :Dimensionality Reduction with PCA\n",
    "**Task 3: apply pca**\n",
    "- reduce features to 2 principal components while retaining 95% variance\n",
    "- visualize data in reduced dimensions"
   ]
  },
  {
   "cell_type": "code",
   "execution_count": 39,
   "id": "87e9df89-ff98-4dc1-b79f-5b91de61f4c6",
   "metadata": {},
   "outputs": [
    {
     "data": {
      "image/png": "[encoded data removed]",
      "text/plain": [
       "<Figure size 1000x600 with 1 Axes>"
      ]
     },
     "metadata": {},
     "output_type": "display_data"
    }
   ],
   "source": [
    "from pyspark.ml.feature import PCA\n",
    "from pyspark.ml import Pipeline\n",
    "import matplotlib.pyplot as plt\n",
    "import pandas as pd\n",
    "\n",
    "#assemble all features into a single vector\n",
    "assembler_all = VectorAssembler(inputCols=[\"Size (sqft)\", \"Bedrooms\", \"Bathrooms\", \"Location_Score\", \"Age\"], outputCol=\"features\")\n",
    "housing_df_pca = assembler_all.transform(housing_df)\n",
    "\n",
    "#aply PCA to reduce the dimensions to 2 components\n",
    "pca = PCA(k=2, inputCol=\"features\", outputCol=\"pca_features\")\n",
    "pca_model = pca.fit(housing_df_pca)\n",
    "housing_df_pca = pca_model.transform(housing_df_pca)\n",
    "\n",
    "pca_result = housing_df_pca.select(\"pca_features\").rdd.map(lambda row: row[0]).collect()\n",
    "\n",
    "pca_df = pd.DataFrame(pca_result, columns=[\"PC1\", \"PC2\"])\n",
    "\n",
    "plt.figure(figsize=(10, 6))\n",
    "plt.scatter(pca_df[\"PC1\"], pca_df[\"PC2\"], alpha=0.7, c='blue')\n",
    "plt.title(\"PCA - Reduced Dimensions (2 components)\")\n",
    "plt.xlabel(\"Principal Component 1\")\n",
    "plt.ylabel(\"Principal Component 2\")\n",
    "plt.show()"
   ]
  },
  {
   "cell_type": "markdown",
   "id": "7c8283e2-1717-47eb-823e-07c34ec2ab50",
   "metadata": {},
   "source": [
    "\n"
   ]
  },
  {
   "cell_type": "code",
   "execution_count": null,
   "id": "390ab7aa-a7ff-4b26-b828-8bfa2d9899f6",
   "metadata": {},
   "outputs": [],
   "source": []
  },
  {
   "cell_type": "markdown",
   "id": "d6fcde16-1054-47b4-94d2-9476e2f155f3",
   "metadata": {},
   "source": []
  },
  {
   "cell_type": "code",
   "execution_count": null,
   "id": "ee047ca4-7b71-4d02-aae3-2c2d4def7767",
   "metadata": {},
   "outputs": [],
   "source": []
  },
  {
   "cell_type": "markdown",
   "id": "8b10a0c1-23f3-4874-807a-9b28794dd528",
   "metadata": {},
   "source": []
  },
  {
   "cell_type": "code",
   "execution_count": null,
   "id": "af84d9ca-ea6b-4e55-95b7-2d3510d76aa5",
   "metadata": {},
   "outputs": [],
   "source": []
  }
 ],
 "metadata": {
  "kernelspec": {
   "display_name": "Python 3 (ipykernel)",
   "language": "python",
   "name": "python3"
  },
  "language_info": {
   "codemirror_mode": {
    "name": "ipython",
    "version": 3
   },
   "file_extension": ".py",
   "mimetype": "text/x-python",
   "name": "python",
   "nbconvert_exporter": "python",
   "pygments_lexer": "ipython3",
   "version": "3.11.6"
  }
 },
 "nbformat": 4,
 "nbformat_minor": 5
}
