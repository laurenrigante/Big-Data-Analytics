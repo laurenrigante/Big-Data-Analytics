{
 "cells": [
  {
   "cell_type": "markdown",
   "id": "0e4ce67d-648b-4737-8540-5668d4a64124",
   "metadata": {},
   "source": [
    "## PRACTICE: EXPLORING LAMBDA FUNCTIONS IN PYTHON\n",
    "A lambda function is a small anonymous function in Python. It can take any number of\r\n",
    "arguments but can only contain one expression. These functions are often used for quick, simple\r\n",
    "tasks, especially when passing a function as an argument to higher-order functions.\r"
   ]
  },
  {
   "cell_type": "markdown",
   "id": "dfc33345-3b81-4285-8a1a-0b98c7033a61",
   "metadata": {},
   "source": [
    "### Examples\n",
    "review the following examples to understand the use of lamdba functions"
   ]
  },
  {
   "cell_type": "code",
   "execution_count": 1,
   "id": "86572284-a5df-4fa9-82af-e0b89f96f98e",
   "metadata": {},
   "outputs": [
    {
     "name": "stdout",
     "output_type": "stream",
     "text": [
      "15\n"
     ]
    }
   ],
   "source": [
    "## Adding 10 to a number\n",
    "\n",
    "x= lambda a: a+10\n",
    "print(x(5)) #output is 15"
   ]
  },
  {
   "cell_type": "code",
   "execution_count": 2,
   "id": "4e83a4ee-97c3-4bbd-8db5-24d4523922b3",
   "metadata": {},
   "outputs": [
    {
     "name": "stdout",
     "output_type": "stream",
     "text": [
      "15\n"
     ]
    }
   ],
   "source": [
    "##Multiplying 2 numbers\n",
    "\n",
    "x= lambda a, b: a*b\n",
    "print(x(5,3)) #output :15"
   ]
  },
  {
   "cell_type": "code",
   "execution_count": 3,
   "id": "f292cc31-48bf-4ae6-8495-991407b4bc5c",
   "metadata": {},
   "outputs": [
    {
     "name": "stdout",
     "output_type": "stream",
     "text": [
      "6\n"
     ]
    }
   ],
   "source": [
    "## Finding max of 2 numbers\n",
    "\n",
    "x = lambda a, b: a if a > b else b\n",
    "print(x(5, 6)) # Output: 6"
   ]
  },
  {
   "cell_type": "code",
   "execution_count": 4,
   "id": "e2801c97-d052-42df-bf12-ff63bdbc82ea",
   "metadata": {},
   "outputs": [
    {
     "name": "stdout",
     "output_type": "stream",
     "text": [
      "22\n"
     ]
    }
   ],
   "source": [
    "## Using lambda inside a function\n",
    "\n",
    "def myfunc(n):\n",
    " return lambda a: a * n\n",
    "mydoubler = myfunc(2)\n",
    "print(mydoubler(11)) # Output: 22"
   ]
  },
  {
   "cell_type": "code",
   "execution_count": 5,
   "id": "1a0fa3cf-4952-45ba-a104-37432f976aaa",
   "metadata": {},
   "outputs": [
    {
     "name": "stdout",
     "output_type": "stream",
     "text": [
      "[{'Name': 'Alan Turing', 'age': 25, 'salary': 10000}, {'Name': 'John Hopkins', 'age': 18, 'salary': 1000}, {'Name': 'Mikhail Tal', 'age': 40, 'salary': 15000}, {'Name': 'Sharon Lin', 'age': 30, 'salary': 8000}]\n"
     ]
    }
   ],
   "source": [
    "## sorting a list of dictionaries\n",
    "\n",
    "employees = [\n",
    " {'Name': 'Alan Turing', 'age': 25, 'salary': 10000},\n",
    " {'Name': 'Sharon Lin', 'age': 30, 'salary': 8000},\n",
    " {'Name': 'John Hopkins', 'age': 18, 'salary': 1000},\n",
    " {'Name': 'Mikhail Tal', 'age': 40, 'salary': 15000},\n",
    "]\n",
    "employees.sort(key=lambda x: x.get('Name'))\n",
    "print(employees)"
   ]
  },
  {
   "cell_type": "markdown",
   "id": "839ae1a4-1164-4439-b556-137f496dfeab",
   "metadata": {},
   "source": [
    "## Exercises"
   ]
  },
  {
   "cell_type": "markdown",
   "id": "ab563355-d04d-4fb0-9ae7-7c09dc20de75",
   "metadata": {},
   "source": [
    "### 1) Write a lambda function that takes 2 arguments and returrns teh divsion of the first \n",
    "argument by the second.\r\n",
    "Exampl :\r\n",
    "Input: 10, 2\r\n",
    "Output: 5\r"
   ]
  },
  {
   "cell_type": "code",
   "execution_count": 9,
   "id": "1f29b6c4-4c61-4335-bf82-51b46c218a9a",
   "metadata": {},
   "outputs": [
    {
     "name": "stdout",
     "output_type": "stream",
     "text": [
      "5.0\n"
     ]
    }
   ],
   "source": [
    "x = lambda a, b: a/b\n",
    "print(x(10,2)) #output 5.0"
   ]
  },
  {
   "cell_type": "markdown",
   "id": "c02a112a-b694-4034-a48e-42d7280f0f94",
   "metadata": {},
   "source": [
    "### 2) Write a lambda function that takes one argument and simply returns it.\r\n",
    "Example \r\n",
    "Input: 5\r\n",
    "Output: 5"
   ]
  },
  {
   "cell_type": "code",
   "execution_count": 11,
   "id": "f813adf4-5aae-49e5-b824-e002e46fce33",
   "metadata": {},
   "outputs": [
    {
     "name": "stdout",
     "output_type": "stream",
     "text": [
      "1\n"
     ]
    }
   ],
   "source": [
    "x= lambda a: a\n",
    "print(x(1)) #output 1"
   ]
  },
  {
   "cell_type": "markdown",
   "id": "ec310634-aef4-48e7-9872-7433ceb862bc",
   "metadata": {},
   "source": [
    "### 3)Write a lambda function that takes a string as input, replaces all commas (,) with semicolons \n",
    "(;), and returns the modified strin\n",
    "Example:\r\n",
    "Input: \"apple,orange,banana\"\r\n",
    "Output: \"apple;orange;banan\"\r",
    "g"
   ]
  },
  {
   "cell_type": "code",
   "execution_count": 12,
   "id": "150f30ac-c7c9-44fd-afcd-8bbab6a40471",
   "metadata": {},
   "outputs": [
    {
     "name": "stdout",
     "output_type": "stream",
     "text": [
      "apple;orange;banana\n"
     ]
    }
   ],
   "source": [
    "replace_commas = lambda s: s.replace(',',';')\n",
    "\n",
    "input= \"apple,orange,banana\"\n",
    "output = replace_commas(input)\n",
    "\n",
    "print(output)"
   ]
  },
  {
   "cell_type": "markdown",
   "id": "e3fcc861-1252-44e1-8a7a-4b98957e845f",
   "metadata": {},
   "source": [
    "### 4) Write a lambda function that takes an array as input and returns the number of elements in the \n",
    "array.\r\n",
    "Example:\r\n",
    "Input: [1, 2, 3, 4]\r\n",
    "Outpu: 4\r"
   ]
  },
  {
   "cell_type": "code",
   "execution_count": 14,
   "id": "7651c38c-d881-428c-a188-b852d3be99f4",
   "metadata": {},
   "outputs": [
    {
     "name": "stdout",
     "output_type": "stream",
     "text": [
      "4\n"
     ]
    }
   ],
   "source": [
    "array_counter= lambda arr: len(arr)\n",
    "\n",
    "input=[1,2,3,4]\n",
    "output= array_counter(input)\n",
    "print(output)"
   ]
  },
  {
   "cell_type": "markdown",
   "id": "7765c827-13be-42ca-af04-f97a1ec9b436",
   "metadata": {},
   "source": [
    "### 5) Write a lambda function that takes a list of numbers and returns the sum of all elements in the \n",
    "list.\r\n",
    "Example:\r\n",
    "Input: [1, 2, 3, 4]\r\n",
    "Output: 10"
   ]
  },
  {
   "cell_type": "code",
   "execution_count": 21,
   "id": "cf99cad8-7e52-4e29-b049-8077b245a17a",
   "metadata": {},
   "outputs": [
    {
     "name": "stdout",
     "output_type": "stream",
     "text": [
      "10\n"
     ]
    }
   ],
   "source": [
    "sum_elements = lambda arr: arr[0] + sum_elements(arr[1:]) if arr else 0\n",
    "\n",
    "# Example usage\n",
    "input_list = [1, 2, 3, 4]\n",
    "output = sum_elements(input_list)\n",
    "print(output)"
   ]
  },
  {
   "cell_type": "markdown",
   "id": "5bd51a68-c763-459f-a436-7f570fcd26ca",
   "metadata": {},
   "source": [
    "### 6) Write a lambda function that takes a single number and returns True if the number is even, \n",
    "otherwise False.\r\n",
    "Example:\r\n",
    "Input: 4\r\n",
    "Output: True"
   ]
  },
  {
   "cell_type": "code",
   "execution_count": 22,
   "id": "b25de0d9-7cef-408e-b1cb-2fca0925b4bf",
   "metadata": {},
   "outputs": [
    {
     "name": "stdout",
     "output_type": "stream",
     "text": [
      "True\n",
      "False\n"
     ]
    }
   ],
   "source": [
    "even_odd = lambda a: a % 2 == 0\n",
    "\n",
    "print(even_odd(4))\n",
    "print(even_odd(5))"
   ]
  },
  {
   "cell_type": "markdown",
   "id": "579251b0-1cae-42ec-a629-cf985c6aeee5",
   "metadata": {},
   "source": [
    "### 7) Write a lambda function that takes a tuple of size 3 as input and returns a new tuple containing \n",
    "the first element of the input tuple and the number 1.\r\n",
    "Example:\r\n",
    "Input: (1, 2.5, 3.6)\r\n",
    "Output: (1, 1)"
   ]
  },
  {
   "cell_type": "code",
   "execution_count": 23,
   "id": "da1b1102-66d1-49b9-8012-b037cc3d2dad",
   "metadata": {},
   "outputs": [
    {
     "name": "stdout",
     "output_type": "stream",
     "text": [
      "(1, 1)\n"
     ]
    }
   ],
   "source": [
    "tuple_example = lambda t: (t[0], 1)\n",
    "input_tuple = (1, 2.5, 3.6)\n",
    "output_tuple = tuple_example(input_tuple)\n",
    "print(output_tuple)  "
   ]
  },
  {
   "cell_type": "code",
   "execution_count": null,
   "id": "e21dca89-e7f0-4897-8152-f2ee7e6ede94",
   "metadata": {},
   "outputs": [],
   "source": []
  }
 ],
 "metadata": {
  "kernelspec": {
   "display_name": "Python 3 (ipykernel)",
   "language": "python",
   "name": "python3"
  },
  "language_info": {
   "codemirror_mode": {
    "name": "ipython",
    "version": 3
   },
   "file_extension": ".py",
   "mimetype": "text/x-python",
   "name": "python",
   "nbconvert_exporter": "python",
   "pygments_lexer": "ipython3",
   "version": "3.11.6"
  }
 },
 "nbformat": 4,
 "nbformat_minor": 5
}
