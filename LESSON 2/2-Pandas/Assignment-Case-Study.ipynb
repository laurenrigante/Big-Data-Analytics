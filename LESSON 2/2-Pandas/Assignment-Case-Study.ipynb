{
 "cells": [
  {
   "cell_type": "markdown",
   "id": "e1fee523-6b79-406d-9f4f-e4ba34922296",
   "metadata": {},
   "source": [
    "# Objective \n",
    "Analyze and manipulate a real-world dataset using Pandas to perform data exploration, cleaning, \n",
    "and advanced analysis\r"
   ]
  },
  {
   "cell_type": "markdown",
   "id": "94524d1a-2d56-4bc3-ba93-83ef28e271be",
   "metadata": {},
   "source": [
    "## Step 1 : Data Exploration"
   ]
  },
  {
   "cell_type": "code",
   "execution_count": 17,
   "id": "c568d031-649c-47df-8048-3a3cb7a37ff5",
   "metadata": {},
   "outputs": [
    {
     "name": "stdout",
     "output_type": "stream",
     "text": [
      "Movies Data:\n"
     ]
    },
    {
     "data": {
      "text/html": [
       "<div>\n",
       "<style scoped>\n",
       "    .dataframe tbody tr th:only-of-type {\n",
       "        vertical-align: middle;\n",
       "    }\n",
       "\n",
       "    .dataframe tbody tr th {\n",
       "        vertical-align: top;\n",
       "    }\n",
       "\n",
       "    .dataframe thead th {\n",
       "        text-align: right;\n",
       "    }\n",
       "</style>\n",
       "<table border=\"1\" class=\"dataframe\">\n",
       "  <thead>\n",
       "    <tr style=\"text-align: right;\">\n",
       "      <th></th>\n",
       "      <th>movieId</th>\n",
       "      <th>title</th>\n",
       "      <th>genres</th>\n",
       "    </tr>\n",
       "  </thead>\n",
       "  <tbody>\n",
       "    <tr>\n",
       "      <th>0</th>\n",
       "      <td>1</td>\n",
       "      <td>Toy Story (1995)</td>\n",
       "      <td>Adventure|Animation|Children|Comedy|Fantasy</td>\n",
       "    </tr>\n",
       "    <tr>\n",
       "      <th>1</th>\n",
       "      <td>2</td>\n",
       "      <td>Jumanji (1995)</td>\n",
       "      <td>Adventure|Children|Fantasy</td>\n",
       "    </tr>\n",
       "    <tr>\n",
       "      <th>2</th>\n",
       "      <td>3</td>\n",
       "      <td>Grumpier Old Men (1995)</td>\n",
       "      <td>Comedy|Romance</td>\n",
       "    </tr>\n",
       "    <tr>\n",
       "      <th>3</th>\n",
       "      <td>4</td>\n",
       "      <td>Waiting to Exhale (1995)</td>\n",
       "      <td>Comedy|Drama|Romance</td>\n",
       "    </tr>\n",
       "    <tr>\n",
       "      <th>4</th>\n",
       "      <td>5</td>\n",
       "      <td>Father of the Bride Part II (1995)</td>\n",
       "      <td>Comedy</td>\n",
       "    </tr>\n",
       "  </tbody>\n",
       "</table>\n",
       "</div>"
      ],
      "text/plain": [
       "   movieId                               title  \\\n",
       "0        1                    Toy Story (1995)   \n",
       "1        2                      Jumanji (1995)   \n",
       "2        3             Grumpier Old Men (1995)   \n",
       "3        4            Waiting to Exhale (1995)   \n",
       "4        5  Father of the Bride Part II (1995)   \n",
       "\n",
       "                                        genres  \n",
       "0  Adventure|Animation|Children|Comedy|Fantasy  \n",
       "1                   Adventure|Children|Fantasy  \n",
       "2                               Comedy|Romance  \n",
       "3                         Comedy|Drama|Romance  \n",
       "4                                       Comedy  "
      ]
     },
     "metadata": {},
     "output_type": "display_data"
    },
    {
     "name": "stdout",
     "output_type": "stream",
     "text": [
      "\n",
      "Ratings Data:\n"
     ]
    },
    {
     "data": {
      "text/html": [
       "<div>\n",
       "<style scoped>\n",
       "    .dataframe tbody tr th:only-of-type {\n",
       "        vertical-align: middle;\n",
       "    }\n",
       "\n",
       "    .dataframe tbody tr th {\n",
       "        vertical-align: top;\n",
       "    }\n",
       "\n",
       "    .dataframe thead th {\n",
       "        text-align: right;\n",
       "    }\n",
       "</style>\n",
       "<table border=\"1\" class=\"dataframe\">\n",
       "  <thead>\n",
       "    <tr style=\"text-align: right;\">\n",
       "      <th></th>\n",
       "      <th>userId</th>\n",
       "      <th>movieId</th>\n",
       "      <th>rating</th>\n",
       "      <th>timestamp</th>\n",
       "    </tr>\n",
       "  </thead>\n",
       "  <tbody>\n",
       "    <tr>\n",
       "      <th>0</th>\n",
       "      <td>1</td>\n",
       "      <td>2</td>\n",
       "      <td>3.5</td>\n",
       "      <td>1112486027</td>\n",
       "    </tr>\n",
       "    <tr>\n",
       "      <th>1</th>\n",
       "      <td>1</td>\n",
       "      <td>29</td>\n",
       "      <td>3.5</td>\n",
       "      <td>1112484676</td>\n",
       "    </tr>\n",
       "    <tr>\n",
       "      <th>2</th>\n",
       "      <td>1</td>\n",
       "      <td>32</td>\n",
       "      <td>3.5</td>\n",
       "      <td>1112484819</td>\n",
       "    </tr>\n",
       "    <tr>\n",
       "      <th>3</th>\n",
       "      <td>1</td>\n",
       "      <td>47</td>\n",
       "      <td>3.5</td>\n",
       "      <td>1112484727</td>\n",
       "    </tr>\n",
       "    <tr>\n",
       "      <th>4</th>\n",
       "      <td>1</td>\n",
       "      <td>50</td>\n",
       "      <td>3.5</td>\n",
       "      <td>1112484580</td>\n",
       "    </tr>\n",
       "  </tbody>\n",
       "</table>\n",
       "</div>"
      ],
      "text/plain": [
       "   userId  movieId  rating   timestamp\n",
       "0       1        2     3.5  1112486027\n",
       "1       1       29     3.5  1112484676\n",
       "2       1       32     3.5  1112484819\n",
       "3       1       47     3.5  1112484727\n",
       "4       1       50     3.5  1112484580"
      ]
     },
     "metadata": {},
     "output_type": "display_data"
    },
    {
     "name": "stdout",
     "output_type": "stream",
     "text": [
      "\n",
      "Tags Data:\n"
     ]
    },
    {
     "data": {
      "text/html": [
       "<div>\n",
       "<style scoped>\n",
       "    .dataframe tbody tr th:only-of-type {\n",
       "        vertical-align: middle;\n",
       "    }\n",
       "\n",
       "    .dataframe tbody tr th {\n",
       "        vertical-align: top;\n",
       "    }\n",
       "\n",
       "    .dataframe thead th {\n",
       "        text-align: right;\n",
       "    }\n",
       "</style>\n",
       "<table border=\"1\" class=\"dataframe\">\n",
       "  <thead>\n",
       "    <tr style=\"text-align: right;\">\n",
       "      <th></th>\n",
       "      <th>userId</th>\n",
       "      <th>movieId</th>\n",
       "      <th>tag</th>\n",
       "      <th>timestamp</th>\n",
       "    </tr>\n",
       "  </thead>\n",
       "  <tbody>\n",
       "    <tr>\n",
       "      <th>0</th>\n",
       "      <td>18</td>\n",
       "      <td>4141</td>\n",
       "      <td>Mark Waters</td>\n",
       "      <td>1240597180</td>\n",
       "    </tr>\n",
       "    <tr>\n",
       "      <th>1</th>\n",
       "      <td>65</td>\n",
       "      <td>208</td>\n",
       "      <td>dark hero</td>\n",
       "      <td>1368150078</td>\n",
       "    </tr>\n",
       "    <tr>\n",
       "      <th>2</th>\n",
       "      <td>65</td>\n",
       "      <td>353</td>\n",
       "      <td>dark hero</td>\n",
       "      <td>1368150079</td>\n",
       "    </tr>\n",
       "    <tr>\n",
       "      <th>3</th>\n",
       "      <td>65</td>\n",
       "      <td>521</td>\n",
       "      <td>noir thriller</td>\n",
       "      <td>1368149983</td>\n",
       "    </tr>\n",
       "    <tr>\n",
       "      <th>4</th>\n",
       "      <td>65</td>\n",
       "      <td>592</td>\n",
       "      <td>dark hero</td>\n",
       "      <td>1368150078</td>\n",
       "    </tr>\n",
       "  </tbody>\n",
       "</table>\n",
       "</div>"
      ],
      "text/plain": [
       "   userId  movieId            tag   timestamp\n",
       "0      18     4141    Mark Waters  1240597180\n",
       "1      65      208      dark hero  1368150078\n",
       "2      65      353      dark hero  1368150079\n",
       "3      65      521  noir thriller  1368149983\n",
       "4      65      592      dark hero  1368150078"
      ]
     },
     "metadata": {},
     "output_type": "display_data"
    }
   ],
   "source": [
    "import pandas as pd\n",
    "\n",
    "# Load the movies.csv, ratings.csv, and tags.csv using Pandas\n",
    "movies = pd.read_csv(\"movies.csv\")\n",
    "ratings = pd.read_csv(\"ratings.csv\")\n",
    "tags = pd.read_csv(\"tags.csv\")\n",
    "\n",
    "# Display first 5 rows of each dataset to understand their structure\n",
    "print(\"Movies Data:\")\n",
    "display(movies.head(5))  \n",
    "\n",
    "print(\"\\nRatings Data:\")\n",
    "display(ratings.head(5))\n",
    "\n",
    "print(\"\\nTags Data:\")\n",
    "display(tags.head(5))"
   ]
  },
  {
   "cell_type": "code",
   "execution_count": 18,
   "id": "4cde0bd7-0d2e-464f-8ef2-fb6c644f2004",
   "metadata": {},
   "outputs": [
    {
     "name": "stdout",
     "output_type": "stream",
     "text": [
      "===== Dataset Shapes =====\n",
      "Movies Shape    : (27278, 3)\n",
      "Ratings Shape   : (20000263, 4)\n",
      "Tags Shape      : (465564, 4)\n",
      "\n",
      "===== Missing Values Check =====\n",
      "Movies Missing Values:\n",
      " movieId    False\n",
      "title      False\n",
      "genres     False\n",
      "dtype: bool \n",
      "\n",
      "Ratings Missing Values:\n",
      " userId       False\n",
      "movieId      False\n",
      "rating       False\n",
      "timestamp    False\n",
      "dtype: bool \n",
      "\n",
      "Tags Missing Values:\n",
      " userId       False\n",
      "movieId      False\n",
      "tag           True\n",
      "timestamp    False\n",
      "dtype: bool \n",
      "\n"
     ]
    }
   ],
   "source": [
    "# Check the shape of each dataset\n",
    "print(\"===== Dataset Shapes =====\")\n",
    "print(f\"Movies Shape    : {movies.shape}\")\n",
    "print(f\"Ratings Shape   : {ratings.shape}\")\n",
    "print(f\"Tags Shape      : {tags.shape}\\n\")\n",
    "\n",
    "# Identify missing values\n",
    "print(\"===== Missing Values Check =====\")\n",
    "print(\"Movies Missing Values:\\n\", movies.isnull().any(), \"\\n\")\n",
    "print(\"Ratings Missing Values:\\n\", ratings.isnull().any(), \"\\n\")\n",
    "print(\"Tags Missing Values:\\n\", tags.isnull().any(), \"\\n\")"
   ]
  },
  {
   "cell_type": "code",
   "execution_count": 19,
   "id": "9af4786a-753d-438a-a559-2e2aff4e75a7",
   "metadata": {},
   "outputs": [
    {
     "name": "stdout",
     "output_type": "stream",
     "text": [
      "userId       False\n",
      "movieId      False\n",
      "tag           True\n",
      "timestamp    False\n",
      "dtype: bool\n"
     ]
    }
   ],
   "source": [
    "# Tags contains missing values, so we drop them\n",
    "tags.dropna\n",
    "\n",
    "# confirm no missing values\n",
    "print(tags.isnull().any())"
   ]
  },
  {
   "cell_type": "markdown",
   "id": "31fb2b32-ce96-438f-a8db-00a9c79a3e22",
   "metadata": {},
   "source": [
    " ## Step 2: Data Cleaning"
   ]
  },
  {
   "cell_type": "code",
   "execution_count": 21,
   "id": "853478e5-4ee7-4a9e-a22b-63caa06ff950",
   "metadata": {},
   "outputs": [
    {
     "name": "stdout",
     "output_type": "stream",
     "text": [
      "           0          1         2       3        4     5     6     7     8  \\\n",
      "0  Adventure  Animation  Children  Comedy  Fantasy  None  None  None  None   \n",
      "1  Adventure   Children   Fantasy    None     None  None  None  None  None   \n",
      "2     Comedy    Romance      None    None     None  None  None  None  None   \n",
      "3     Comedy      Drama   Romance    None     None  None  None  None  None   \n",
      "4     Comedy       None      None    None     None  None  None  None  None   \n",
      "\n",
      "      9  \n",
      "0  None  \n",
      "1  None  \n",
      "2  None  \n",
      "3  None  \n",
      "4  None  \n",
      "                                title  \\\n",
      "0                    Toy Story (1995)   \n",
      "1                      Jumanji (1995)   \n",
      "2             Grumpier Old Men (1995)   \n",
      "3            Waiting to Exhale (1995)   \n",
      "4  Father of the Bride Part II (1995)   \n",
      "\n",
      "                                        genres IsComedy  \n",
      "0  Adventure|Animation|Children|Comedy|Fantasy      Yes  \n",
      "1                   Adventure|Children|Fantasy       No  \n",
      "2                               Comedy|Romance      Yes  \n",
      "3                         Comedy|Drama|Romance      Yes  \n",
      "4                                       Comedy      Yes  \n"
     ]
    }
   ],
   "source": [
    "# Transform the genres Column\n",
    "# split it into multiple columns using str.split('|',expand=true)\n",
    "movie_genres= movies['genres'].str.split('|',expand=True)\n",
    "print(movie_genres.head())\n",
    "\n",
    "# add a new column iscomedy that flags movies with the genre comedy, use str.contains()\n",
    "movies['IsComedy']= movies['genres'].str.contains('Comedy').map({True: 'Yes', False: 'No'})\n",
    "\n",
    "print(movies[['title','genres', 'IsComedy']].head())"
   ]
  },
  {
   "cell_type": "code",
   "execution_count": 23,
   "id": "f1349e7a-dcc2-42d7-af45-9135e39da3fa",
   "metadata": {},
   "outputs": [
    {
     "name": "stdout",
     "output_type": "stream",
     "text": [
      "                                title ReleaseYear\n",
      "0                    Toy Story (1995)        1995\n",
      "1                      Jumanji (1995)        1995\n",
      "2             Grumpier Old Men (1995)        1995\n",
      "3            Waiting to Exhale (1995)        1995\n",
      "4  Father of the Bride Part II (1995)        1995\n"
     ]
    }
   ],
   "source": [
    "# Extract release year from the title using a regex. Create a new column for year\n",
    "movies['ReleaseYear']= movies['title'].str.extract(r'\\((\\d{4})\\)')\n",
    "\n",
    "print(movies[['title','ReleaseYear']].head())"
   ]
  },
  {
   "cell_type": "markdown",
   "id": "6c4b05fd-6372-4846-ab6f-afc6be2330a8",
   "metadata": {},
   "source": [
    "## Step 3: Data Analysis\n",
    "\n",
    "1. Descriptive statistics\n",
    "   Generate summary statistics for the ratings dataset using .describe().\r",
    "    Identify the most frequent rating using .mode().\n",
    "2. Analyze ratings\n",
    "  Calculate the average rating for each movie using groupby() and .mean().\r",
    "  o Filter and display movies with an average rating of 5.0. \n",
    "3. Time-series analys\n",
    "   Convert the timestamp column in the ratings dataset to a datetime format using\r",
    "    \n",
    "pd.to_datetime().    \n",
    "o Filter rows where parsed_time is after February 1, 2015    \r\n",
    "o Sort the data by parsed_time in ascending order.is"
   ]
  },
  {
   "cell_type": "code",
   "execution_count": 26,
   "id": "2807ca66-d2bc-47e6-9e04-860334ea4b88",
   "metadata": {},
   "outputs": [
    {
     "name": "stdout",
     "output_type": "stream",
     "text": [
      "             userId       movieId        rating     timestamp\n",
      "count  2.000026e+07  2.000026e+07  2.000026e+07  2.000026e+07\n",
      "mean   6.904587e+04  9.041567e+03  3.525529e+00  1.100918e+09\n",
      "std    4.003863e+04  1.978948e+04  1.051989e+00  1.621694e+08\n",
      "min    1.000000e+00  1.000000e+00  5.000000e-01  7.896520e+08\n",
      "25%    3.439500e+04  9.020000e+02  3.000000e+00  9.667977e+08\n",
      "50%    6.914100e+04  2.167000e+03  3.500000e+00  1.103556e+09\n",
      "75%    1.036370e+05  4.770000e+03  4.000000e+00  1.225642e+09\n",
      "max    1.384930e+05  1.312620e+05  5.000000e+00  1.427784e+09\n",
      "   userId  movieId  rating  timestamp\n",
      "0  118205      296     4.0  825638400\n"
     ]
    }
   ],
   "source": [
    "## 1) descriptive statistics\n",
    "\n",
    "#generate summary statistics using describe\n",
    "print(ratings.describe())\n",
    "\n",
    "print(ratings.mode()) #most frequent rating is 4.0"
   ]
  },
  {
   "cell_type": "code",
   "execution_count": 27,
   "id": "3bd4fb00-79ff-4df3-825c-9cfcfabb59aa",
   "metadata": {},
   "outputs": [
    {
     "name": "stdout",
     "output_type": "stream",
     "text": [
      "                                                   title  rating\n",
      "9007       Life On A String (Bian chang Bian Zou) (1991)     5.0\n",
      "9561   Hijacking Catastrophe: 9/11, Fear & the Sellin...     5.0\n",
      "9862             Snow Queen, The (Lumikuningatar) (1986)     5.0\n",
      "10567                                Al otro lado (2004)     5.0\n",
      "12015                                  Sierra, La (2005)     5.0\n",
      "...                                                  ...     ...\n",
      "27091                        Bill Hicks: Sane Man (1989)     5.0\n",
      "27093                           The Wrecking Crew (2008)     5.0\n",
      "27155  The Garden of Sinners - Chapter 5: Paradox Par...     5.0\n",
      "27189                         The Beautiful Story (1992)     5.0\n",
      "27201  Stargate SG-1 Children of the Gods - Final Cut...     5.0\n",
      "\n",
      "[113 rows x 2 columns]\n"
     ]
    }
   ],
   "source": [
    "## 2) Analyze ratings\n",
    "#calculate avg rating for each movie\n",
    "avg_ratings= ratings.groupby('movieId')['rating'].mean()\n",
    "\n",
    "# Merge the avg ratings back with the movies DataFrame\n",
    "movies_with_avg_rating = movies.merge(avg_ratings, on='movieId', how='left')\n",
    "\n",
    "# Filter and display movies with an average rating of 5\n",
    "movies_with_avg_rating_5 = movies_with_avg_rating[movies_with_avg_rating['rating'] == 5]\n",
    "\n",
    "# Display the result\n",
    "print(movies_with_avg_rating_5[['title', 'rating']])"
   ]
  },
  {
   "cell_type": "code",
   "execution_count": 28,
   "id": "60984459-e86b-47e9-8621-81584aad797a",
   "metadata": {},
   "outputs": [
    {
     "name": "stdout",
     "output_type": "stream",
     "text": [
      "          movieId  rating         parsed_time\n",
      "12703376   102481     2.5 2015-02-01 00:00:25\n",
      "5912263      2428     3.0 2015-02-01 00:03:12\n",
      "12703402   116823     4.0 2015-02-01 00:03:15\n",
      "5912451      8910     3.0 2015-02-01 00:03:31\n",
      "10041669   115617     3.0 2015-02-01 00:04:00\n"
     ]
    }
   ],
   "source": [
    "## 3) time series analysis\n",
    "\n",
    "# Convert the timestamp column to datetime in ratings DataFrame\n",
    "ratings['parsed_time'] = pd.to_datetime(ratings['timestamp'], unit='s')\n",
    "\n",
    "# Filter rows where parsed_time is after February 1, 2015\n",
    "filtered_ratings = ratings[ratings['parsed_time'] > '2015-02-01']\n",
    "\n",
    "# Sort the data by parsed_time in ascending order\n",
    "sorted_ratings = filtered_ratings.sort_values(by='parsed_time', ascending=True)\n",
    "\n",
    "# Display the first few rows to verify\n",
    "print(sorted_ratings[['movieId', 'rating', 'parsed_time']].head())"
   ]
  },
  {
   "cell_type": "markdown",
   "id": "dce947e5-ed77-487f-9915-2a7466e02c05",
   "metadata": {},
   "source": [
    "## Step 4: Data Merging\n",
    "1) Combine datasets\n",
    "     Merge movies and tags datasets on movieId.\r",
    "     Merge movies with the average ratings calculated in Step 3 to create a box_offic \r\n",
    "datase2\n",
    "3) GenreSpecific analys\n",
    "    Filter movies in the box_office dataset that belong to the genre \"Animation\".\r",
    "     Identify highly rated comedy movies (rating ≥ 4.0 and IsComedy is True).\r",
    "is"
   ]
  },
  {
   "cell_type": "code",
   "execution_count": 30,
   "id": "1f307d14-8a95-47c5-ad9d-b0faf410a7cf",
   "metadata": {},
   "outputs": [
    {
     "name": "stdout",
     "output_type": "stream",
     "text": [
      "   movieId             title                                       genres  \\\n",
      "0        1  Toy Story (1995)  Adventure|Animation|Children|Comedy|Fantasy   \n",
      "1        1  Toy Story (1995)  Adventure|Animation|Children|Comedy|Fantasy   \n",
      "2        1  Toy Story (1995)  Adventure|Animation|Children|Comedy|Fantasy   \n",
      "3        1  Toy Story (1995)  Adventure|Animation|Children|Comedy|Fantasy   \n",
      "4        1  Toy Story (1995)  Adventure|Animation|Children|Comedy|Fantasy   \n",
      "\n",
      "  IsComedy ReleaseYear  userId                                     tag  \\\n",
      "0      Yes        1995  1644.0                                 Watched   \n",
      "1      Yes        1995  1741.0                      computer animation   \n",
      "2      Yes        1995  1741.0                 Disney animated feature   \n",
      "3      Yes        1995  1741.0                         Pixar animation   \n",
      "4      Yes        1995  1741.0  TÃ©a Leoni does not star in this movie   \n",
      "\n",
      "      timestamp  \n",
      "0  1.417737e+09  \n",
      "1  1.183903e+09  \n",
      "2  1.183933e+09  \n",
      "3  1.183935e+09  \n",
      "4  1.245094e+09  \n",
      "   movieId                               title  \\\n",
      "0        1                    Toy Story (1995)   \n",
      "1        2                      Jumanji (1995)   \n",
      "2        3             Grumpier Old Men (1995)   \n",
      "3        4            Waiting to Exhale (1995)   \n",
      "4        5  Father of the Bride Part II (1995)   \n",
      "\n",
      "                                        genres IsComedy ReleaseYear    rating  \n",
      "0  Adventure|Animation|Children|Comedy|Fantasy      Yes        1995  3.921240  \n",
      "1                   Adventure|Children|Fantasy       No        1995  3.211977  \n",
      "2                               Comedy|Romance      Yes        1995  3.151040  \n",
      "3                         Comedy|Drama|Romance      Yes        1995  2.861393  \n",
      "4                                       Comedy      Yes        1995  3.064592  \n"
     ]
    }
   ],
   "source": [
    "# 1) combine data sets\n",
    "# merge movies and tags datasets on movieid\n",
    "movie_tag= movies.merge(tags, on='movieId', how='left')\n",
    "print(movie_tag.head())\n",
    "\n",
    "# merge movies with avg ratings calculated in step 3 to create a  box_office dataset\n",
    "box_office = movies.merge(avg_ratings, on='movieId', how='left')\n",
    "print(box_office.head())"
   ]
  },
  {
   "cell_type": "code",
   "execution_count": 31,
   "id": "3ceb50b7-76c8-405c-bea5-ca22740954cc",
   "metadata": {},
   "outputs": [
    {
     "name": "stdout",
     "output_type": "stream",
     "text": [
      "     movieId                    title  \\\n",
      "0          1         Toy Story (1995)   \n",
      "12        13             Balto (1995)   \n",
      "47        48        Pocahontas (1995)   \n",
      "236      239    Goofy Movie, A (1995)   \n",
      "241      244  Gumby: The Movie (1995)   \n",
      "\n",
      "                                          genres  \n",
      "0    Adventure|Animation|Children|Comedy|Fantasy  \n",
      "12                  Adventure|Animation|Children  \n",
      "47      Animation|Children|Drama|Musical|Romance  \n",
      "236            Animation|Children|Comedy|Romance  \n",
      "241                           Animation|Children  \n",
      "Empty DataFrame\n",
      "Columns: [movieId, title, genres, rating, IsComedy]\n",
      "Index: []\n"
     ]
    }
   ],
   "source": [
    "# 2) genre specific analysis\n",
    "#filter movies in box_office data set that belong to animation genre\n",
    "animated_movies = box_office[box_office['genres'].str.contains('Animation', case=False, na=False)]\n",
    "print(animated_movies[['movieId', 'title', 'genres']].head())\n",
    "\n",
    "#identify highly rated comedy movies  >=4 and iscomedy true\n",
    "comedies=box_office[(box_office['IsComedy']== True) &(box_office['rating'] >= 4)]\n",
    "print(comedies[['movieId', 'title', 'genres', 'rating', 'IsComedy']].head())"
   ]
  },
  {
   "cell_type": "markdown",
   "id": "c3d71e3d-ac13-4287-9ad9-bd95b2b3dc40",
   "metadata": {},
   "source": [
    "## Step 5: Correlation Analysis"
   ]
  },
  {
   "cell_type": "code",
   "execution_count": 32,
   "id": "2df49209-509f-4394-aec9-e5c76e9380ae",
   "metadata": {},
   "outputs": [
    {
     "name": "stdout",
     "output_type": "stream",
     "text": [
      "             ReleaseYear    rating\n",
      "ReleaseYear     1.000000 -0.051535\n",
      "rating         -0.051535  1.000000\n"
     ]
    }
   ],
   "source": [
    "# analyze corerlation between release year and avg rating using .corr\n",
    "correlation = box_office[['ReleaseYear', 'rating']].corr()\n",
    "\n",
    "# Display the correlation matrix\n",
    "print(correlation)"
   ]
  },
  {
   "cell_type": "code",
   "execution_count": 33,
   "id": "b19901a6-1aa7-45ce-aa26-3c20efb2cdad",
   "metadata": {},
   "outputs": [
    {
     "name": "stdout",
     "output_type": "stream",
     "text": [
      "ReleaseYear\n",
      "1891    3.000000\n",
      "1893    3.375000\n",
      "1894    3.071429\n",
      "1895    3.125000\n",
      "1896    3.183036\n",
      "          ...   \n",
      "2011    3.162567\n",
      "2012    3.104176\n",
      "2013    3.145056\n",
      "2014    3.122809\n",
      "2015    2.813146\n",
      "Name: rating, Length: 118, dtype: float64\n"
     ]
    }
   ],
   "source": [
    "# calculate yearly avg rating for all movies using groupby and mean\n",
    "yearly_avg_rating = box_office.groupby('ReleaseYear')['rating'].mean()\n",
    "\n",
    "# Display the yearly average ratings\n",
    "print(yearly_avg_rating)"
   ]
  },
  {
   "cell_type": "code",
   "execution_count": null,
   "id": "f7f8e74f-eda8-498b-8883-813d32fb1fff",
   "metadata": {},
   "outputs": [],
   "source": []
  }
 ],
 "metadata": {
  "kernelspec": {
   "display_name": "Python 3 (ipykernel)",
   "language": "python",
   "name": "python3"
  },
  "language_info": {
   "codemirror_mode": {
    "name": "ipython",
    "version": 3
   },
   "file_extension": ".py",
   "mimetype": "text/x-python",
   "name": "python",
   "nbconvert_exporter": "python",
   "pygments_lexer": "ipython3",
   "version": "3.11.6"
  }
 },
 "nbformat": 4,
 "nbformat_minor": 5
}
