{
 "cells": [
  {
   "cell_type": "code",
   "execution_count": 1,
   "id": "b4f4daa9-f8f5-49af-b368-cd0ebe38c8a3",
   "metadata": {},
   "outputs": [],
   "source": [
    "!pip install -q findspark\n"
   ]
  },
  {
   "cell_type": "code",
   "execution_count": 2,
   "id": "a990df72-e89a-442c-85ff-ac590beccf7e",
   "metadata": {},
   "outputs": [],
   "source": [
    "import findspark\n",
    "findspark.init()"
   ]
  },
  {
   "cell_type": "code",
   "execution_count": 3,
   "id": "8e1a2bbb-f043-4c9e-abd2-f7fd95980e34",
   "metadata": {},
   "outputs": [
    {
     "data": {
      "text/html": [
       "\n",
       "            <div>\n",
       "                <p><b>SparkSession - in-memory</b></p>\n",
       "                \n",
       "        <div>\n",
       "            <p><b>SparkContext</b></p>\n",
       "\n",
       "            <p><a href=\"http://9855dfa244af:4041\">Spark UI</a></p>\n",
       "\n",
       "            <dl>\n",
       "              <dt>Version</dt>\n",
       "                <dd><code>v3.5.0</code></dd>\n",
       "              <dt>Master</dt>\n",
       "                <dd><code>local[*]</code></dd>\n",
       "              <dt>AppName</dt>\n",
       "                <dd><code>pyspark-shell</code></dd>\n",
       "            </dl>\n",
       "        </div>\n",
       "        \n",
       "            </div>\n",
       "        "
      ],
      "text/plain": [
       "<pyspark.sql.session.SparkSession at 0x7f67e8ba0410>"
      ]
     },
     "execution_count": 3,
     "metadata": {},
     "output_type": "execute_result"
    }
   ],
   "source": [
    "from pyspark.sql import SparkSession\n",
    "spark = SparkSession.builder.master(\"local[*]\").getOrCreate()\n",
    "spark"
   ]
  },
  {
   "cell_type": "markdown",
   "id": "3f02d607-dbfa-4db2-8ba1-e5adb93bc735",
   "metadata": {},
   "source": [
    "# Job DataSet analysis using PySpark\n",
    "\n",
    "- Create a pyspark dataframe from the CSV, this sets the firrst row as column headers"
   ]
  },
  {
   "cell_type": "code",
   "execution_count": 14,
   "id": "2db35591-aa08-4e0c-86c0-3ac06bb089b5",
   "metadata": {},
   "outputs": [
    {
     "name": "stdout",
     "output_type": "stream",
     "text": [
      "+---+----------+----------+------+---------------+--------------------+---------+----------+-----------+\n",
      "| id|first_name| last_name|gender|           City|            JobTitle|   Salary|  Latitude|  Longitude|\n",
      "+---+----------+----------+------+---------------+--------------------+---------+----------+-----------+\n",
      "|  1|   Melinde| Shilburne|Female|      Nowa Ruda| Assistant Professor|$57438.18|50.5774075| 16.4967184|\n",
      "|  2|  Kimberly|Von Welden|Female|         Bulgan|       Programmer II|$62846.60|48.8231572|103.5218199|\n",
      "|  3|    Alvera|  Di Boldi|Female|           NULL|                NULL|$57576.52|39.9947462|116.3397725|\n",
      "|  4|   Shannon| O'Griffin|  Male|  Divnomorskoye|Budget/Accounting...|$61489.23|44.5047212| 38.1300171|\n",
      "|  5|  Sherwood|   Macieja|  Male|      Mytishchi|            VP Sales|$63863.09|      NULL| 37.6489954|\n",
      "|  6|     Maris|      Folk|Female|Kinsealy-Drinan|      Civil Engineer|$30101.16|53.4266145| -6.1644997|\n",
      "|  7|     Masha|    Divers|Female|         Dachun|                NULL|$25090.87| 24.879416| 118.930111|\n",
      "|  8|   Goddart|     Flear|  Male|      Trélissac|Desktop Support T...|$46116.36|45.1905186|  0.7423124|\n",
      "|  9|      Roth|O'Cannavan|  Male|         Heitan|VP Product Manage...|$73697.10| 32.027934| 106.657113|\n",
      "| 10|      Bran|   Trahear|  Male|       Arbeláez|Mechanical System...|$68098.42|  4.272793| -74.416014|\n",
      "| 11|    Kylynn|   Lockart|Female|       El Cardo|Nuclear Power Eng...|$13604.63|     -5.85|-79.8833329|\n",
      "| 12|       Rey|    Meharg|Female|    Wangqingtuo|Systems Administr...|$73423.70| 39.172378| 116.931607|\n",
      "| 13|      Kerr|    Braden|  Male|      Sułkowice|Compensation Analyst|$33432.99|49.8151822| 19.3771749|\n",
      "| 14|    Mickie| Whanstall|  Male|    Springfield|Assistant Media P...|$50838.53|42.1014803|-72.5766759|\n",
      "| 15|    Kaspar|     Pally|  Male|         Chrást|  Analyst Programmer|$40163.03|49.7923299| 13.4915324|\n",
      "| 16|    Norbie|    Gwyllt|  Male|         Xijiao|              Editor|$32492.73|43.4945737|  5.8978018|\n",
      "| 17|    Claude|    Briant|Female|      Mieścisko|Research Assistan...|$51862.48|52.7441662| 17.3278637|\n",
      "| 18|     Thain|    Habbon|  Male| Foros do Trapo|     Design Engineer|$42135.67| 38.696249| -8.7098337|\n",
      "| 19|  Tiffanie|  Pattison|Female|    Jabungsisir|Senior Financial ...|$91925.08|-7.7232567|113.4686802|\n",
      "| 20|    Ettore|  Gerriets|  Male|          Pedra| Staff Accountant IV|$73921.33|40.7172049| -8.3625148|\n",
      "+---+----------+----------+------+---------------+--------------------+---------+----------+-----------+\n",
      "only showing top 20 rows\n",
      "\n"
     ]
    }
   ],
   "source": [
    "job_data = spark.read.format(\"csv\").option(\"header\",\n",
    "True).load(\"original.csv\")\n",
    "job_data.show()"
   ]
  },
  {
   "cell_type": "markdown",
   "id": "75232a53-c136-4888-920e-f9bf6ecd02a9",
   "metadata": {},
   "source": [
    "# Handle missing values and clean the dataset"
   ]
  },
  {
   "cell_type": "code",
   "execution_count": 16,
   "id": "d39f685c-4c84-4e03-a786-45f70868169e",
   "metadata": {},
   "outputs": [
    {
     "name": "stdout",
     "output_type": "stream",
     "text": [
      "+---+----------+----------+------+---------------+--------------------+---------+----------+-----------+---------------+------------+----------------+\n",
      "| id|first_name| last_name|gender|           City|            JobTitle|   Salary|  Latitude|  Longitude|     Clean_City|Clean_Salary|      New_Salary|\n",
      "+---+----------+----------+------+---------------+--------------------+---------+----------+-----------+---------------+------------+----------------+\n",
      "|  1|   Melinde| Shilburne|Female|      Nowa Ruda| Assistant Professor|$57438.18|50.5774075| 16.4967184|      Nowa Ruda|    57438.18|   57438.1796875|\n",
      "|  2|  Kimberly|Von Welden|Female|         Bulgan|       Programmer II|$62846.60|48.8231572|103.5218199|         Bulgan|     62846.6|   62846.6015625|\n",
      "|  4|   Shannon| O'Griffin|  Male|  Divnomorskoye|Budget/Accounting...|$61489.23|44.5047212| 38.1300171|  Divnomorskoye|    61489.23|  61489.23046875|\n",
      "|  5|  Sherwood|   Macieja|  Male|      Mytishchi|            VP Sales|$63863.09|      NULL| 37.6489954|      Mytishchi|    63863.09|  63863.08984375|\n",
      "|  6|     Maris|      Folk|Female|Kinsealy-Drinan|      Civil Engineer|$30101.16|53.4266145| -6.1644997|Kinsealy-Drinan|    30101.16|  30101.16015625|\n",
      "|  8|   Goddart|     Flear|  Male|      Trélissac|Desktop Support T...|$46116.36|45.1905186|  0.7423124|      Trélissac|    46116.36|    46116.359375|\n",
      "|  9|      Roth|O'Cannavan|  Male|         Heitan|VP Product Manage...|$73697.10| 32.027934| 106.657113|         Heitan|     73697.1|   73697.1015625|\n",
      "| 10|      Bran|   Trahear|  Male|       Arbeláez|Mechanical System...|$68098.42|  4.272793| -74.416014|       Arbeláez|    68098.42|    68098.421875|\n",
      "| 11|    Kylynn|   Lockart|Female|       El Cardo|Nuclear Power Eng...|$13604.63|     -5.85|-79.8833329|       El Cardo|    13604.63|13604.6298828125|\n",
      "| 12|       Rey|    Meharg|Female|    Wangqingtuo|Systems Administr...|$73423.70| 39.172378| 116.931607|    Wangqingtuo|     73423.7|    73423.703125|\n",
      "| 13|      Kerr|    Braden|  Male|      Sułkowice|Compensation Analyst|$33432.99|49.8151822| 19.3771749|      Sułkowice|    33432.99|  33432.98828125|\n",
      "| 14|    Mickie| Whanstall|  Male|    Springfield|Assistant Media P...|$50838.53|42.1014803|-72.5766759|    Springfield|    50838.53|     50838.53125|\n",
      "| 15|    Kaspar|     Pally|  Male|         Chrást|  Analyst Programmer|$40163.03|49.7923299| 13.4915324|         Chrást|    40163.03|     40163.03125|\n",
      "| 16|    Norbie|    Gwyllt|  Male|         Xijiao|              Editor|$32492.73|43.4945737|  5.8978018|         Xijiao|    32492.73|  32492.73046875|\n",
      "| 17|    Claude|    Briant|Female|      Mieścisko|Research Assistan...|$51862.48|52.7441662| 17.3278637|      Mieścisko|    51862.48|  51862.48046875|\n",
      "| 18|     Thain|    Habbon|  Male| Foros do Trapo|     Design Engineer|$42135.67| 38.696249| -8.7098337| Foros do Trapo|    42135.67|    42135.671875|\n",
      "| 19|  Tiffanie|  Pattison|Female|    Jabungsisir|Senior Financial ...|$91925.08|-7.7232567|113.4686802|    Jabungsisir|    91925.08|    91925.078125|\n",
      "| 20|    Ettore|  Gerriets|  Male|          Pedra| Staff Accountant IV|$73921.33|40.7172049| -8.3625148|          Pedra|    73921.33|    73921.328125|\n",
      "| 21|      Alon|  Chasteau|  Male|          Xin’e|     Web Developer I|$62755.85|  49.16291|  127.98658|          Xin’e|    62755.85|   62755.8515625|\n",
      "| 22|   Guthrey|    Johnke|  Male|         Xijiao|         Developer I|$13708.03|40.7576842| 23.1342184|         Xijiao|    13708.03|13708.0302734375|\n",
      "+---+----------+----------+------+---------------+--------------------+---------+----------+-----------+---------------+------------+----------------+\n",
      "only showing top 20 rows\n",
      "\n"
     ]
    }
   ],
   "source": [
    "#check and handle missing values\n",
    "from pyspark.sql.functions import *\n",
    "\n",
    "#creating a new column clean city, where if city is null it replaces it with unknown\n",
    "job_data2 = job_data.withColumn(\"Clean_City\", when(job_data.City.isNull(), \"Unknown\").otherwise(job_data.City))\n",
    "\n",
    "#rermoving rows will null job titles\n",
    "job_data2 =job_data2.filter(job_data2.JobTitle.isNotNull())\n",
    "\n",
    "#converting salary to a numeric value, remove currency symbols and cast to float\n",
    "job_data2 = job_data2.withColumn(\"Clean_Salary\", col(\"Salary\").substr(2,100).cast(\"float\"))\n",
    "\n",
    "#replace null salaries with mean value of salary\n",
    "mean_salary = job_data2.selectExpr(\"avg(Clean_Salary) as mean\").collect()[0][\"mean\"]\n",
    "\n",
    "from pyspark.sql.functions import lit\n",
    "job_data2 = job_data2.withColumn(\"New_Salary\", when(job_data2.Clean_Salary.isNull(), lit(mean_salary)).otherwise(job_data2.Clean_Salary))\n",
    "job_data2.show()\n"
   ]
  },
  {
   "cell_type": "code",
   "execution_count": 18,
   "id": "8092bf01-22f1-4c5a-99c1-a74f4328b7fb",
   "metadata": {},
   "outputs": [
    {
     "name": "stdout",
     "output_type": "stream",
     "text": [
      "+---+----------+----------+------+---------------+--------------------+---------+----------+-----------+---------------+------------+----------------+-----------------+\n",
      "| id|first_name| last_name|gender|           City|            JobTitle|   Salary|  Latitude|  Longitude|     Clean_City|Clean_Salary|      New_Salary| Updated_Latitude|\n",
      "+---+----------+----------+------+---------------+--------------------+---------+----------+-----------+---------------+------------+----------------+-----------------+\n",
      "|  1|   Melinde| Shilburne|Female|      Nowa Ruda| Assistant Professor|$57438.18|50.5774075| 16.4967184|      Nowa Ruda|    57438.18|   57438.1796875|       50.5774075|\n",
      "|  2|  Kimberly|Von Welden|Female|         Bulgan|       Programmer II|$62846.60|48.8231572|103.5218199|         Bulgan|     62846.6|   62846.6015625|       48.8231572|\n",
      "|  4|   Shannon| O'Griffin|  Male|  Divnomorskoye|Budget/Accounting...|$61489.23|44.5047212| 38.1300171|  Divnomorskoye|    61489.23|  61489.23046875|       44.5047212|\n",
      "|  5|  Sherwood|   Macieja|  Male|      Mytishchi|            VP Sales|$63863.09|      NULL| 37.6489954|      Mytishchi|    63863.09|  63863.08984375|31.93397331237793|\n",
      "|  6|     Maris|      Folk|Female|Kinsealy-Drinan|      Civil Engineer|$30101.16|53.4266145| -6.1644997|Kinsealy-Drinan|    30101.16|  30101.16015625|       53.4266145|\n",
      "|  8|   Goddart|     Flear|  Male|      Trélissac|Desktop Support T...|$46116.36|45.1905186|  0.7423124|      Trélissac|    46116.36|    46116.359375|       45.1905186|\n",
      "|  9|      Roth|O'Cannavan|  Male|         Heitan|VP Product Manage...|$73697.10| 32.027934| 106.657113|         Heitan|     73697.1|   73697.1015625|        32.027934|\n",
      "| 10|      Bran|   Trahear|  Male|       Arbeláez|Mechanical System...|$68098.42|  4.272793| -74.416014|       Arbeláez|    68098.42|    68098.421875|         4.272793|\n",
      "| 11|    Kylynn|   Lockart|Female|       El Cardo|Nuclear Power Eng...|$13604.63|     -5.85|-79.8833329|       El Cardo|    13604.63|13604.6298828125|            -5.85|\n",
      "| 12|       Rey|    Meharg|Female|    Wangqingtuo|Systems Administr...|$73423.70| 39.172378| 116.931607|    Wangqingtuo|     73423.7|    73423.703125|        39.172378|\n",
      "| 13|      Kerr|    Braden|  Male|      Sułkowice|Compensation Analyst|$33432.99|49.8151822| 19.3771749|      Sułkowice|    33432.99|  33432.98828125|       49.8151822|\n",
      "| 14|    Mickie| Whanstall|  Male|    Springfield|Assistant Media P...|$50838.53|42.1014803|-72.5766759|    Springfield|    50838.53|     50838.53125|       42.1014803|\n",
      "| 15|    Kaspar|     Pally|  Male|         Chrást|  Analyst Programmer|$40163.03|49.7923299| 13.4915324|         Chrást|    40163.03|     40163.03125|       49.7923299|\n",
      "| 16|    Norbie|    Gwyllt|  Male|         Xijiao|              Editor|$32492.73|43.4945737|  5.8978018|         Xijiao|    32492.73|  32492.73046875|       43.4945737|\n",
      "| 17|    Claude|    Briant|Female|      Mieścisko|Research Assistan...|$51862.48|52.7441662| 17.3278637|      Mieścisko|    51862.48|  51862.48046875|       52.7441662|\n",
      "| 18|     Thain|    Habbon|  Male| Foros do Trapo|     Design Engineer|$42135.67| 38.696249| -8.7098337| Foros do Trapo|    42135.67|    42135.671875|        38.696249|\n",
      "| 19|  Tiffanie|  Pattison|Female|    Jabungsisir|Senior Financial ...|$91925.08|-7.7232567|113.4686802|    Jabungsisir|    91925.08|    91925.078125|       -7.7232567|\n",
      "| 20|    Ettore|  Gerriets|  Male|          Pedra| Staff Accountant IV|$73921.33|40.7172049| -8.3625148|          Pedra|    73921.33|    73921.328125|       40.7172049|\n",
      "| 21|      Alon|  Chasteau|  Male|          Xin’e|     Web Developer I|$62755.85|  49.16291|  127.98658|          Xin’e|    62755.85|   62755.8515625|         49.16291|\n",
      "| 22|   Guthrey|    Johnke|  Male|         Xijiao|         Developer I|$13708.03|40.7576842| 23.1342184|         Xijiao|    13708.03|13708.0302734375|       40.7576842|\n",
      "+---+----------+----------+------+---------------+--------------------+---------+----------+-----------+---------------+------------+----------------+-----------------+\n",
      "only showing top 20 rows\n",
      "\n"
     ]
    }
   ],
   "source": [
    "#rerplacing null latitude values with the median. Convert a latitude to float\n",
    "import numpy as np\n",
    "latitudes =job_data2.select(\"Latitude\").filter(job_data2.Latitude.isNotNull()).withColumn(\"Latitude\", col(\"Latitude\").cast(\"float\"))\n",
    "\n",
    "median_lat = np.median([row[\"Latitude\"] for row in latitudes.collect()])\n",
    "job_data2 = job_data2.withColumn(\"Updated_Latitude\", when(job_data2.Latitude.isNull(), lit(median_lat)).otherwise(job_data2.Latitude)) \n",
    "\n",
    "job_data2.show()"
   ]
  },
  {
   "cell_type": "markdown",
   "id": "a1dc07da-63b0-405f-9162-30dcf48a5357",
   "metadata": {},
   "source": [
    "# SALARY ANALYSIS\n",
    "- do men or women make morre on average\n",
    "- analyze salary differences by job title\n",
    "- identify which city has the highest average salaryr\n"
   ]
  },
  {
   "cell_type": "markdown",
   "id": "82710012-4b5f-470f-987d-735a945148c4",
   "metadata": {},
   "source": [
    "# Identifying gender salary differences\n"
   ]
  },
  {
   "cell_type": "code",
   "execution_count": 19,
   "id": "346ee02c-7b67-4d4e-8333-2af054201292",
   "metadata": {},
   "outputs": [
    {
     "name": "stdout",
     "output_type": "stream",
     "text": [
      "+------+------------------+\n",
      "|Gender|    Average_Salary|\n",
      "+------+------------------+\n",
      "|Female|55677.250125558036|\n",
      "|  Male| 55361.09385573019|\n",
      "+------+------------------+\n",
      "\n"
     ]
    }
   ],
   "source": [
    "#SALARRY ANALYSIS BY GENDER\n",
    "from pyspark.sql.functions import col, avg, when, lit\n",
    "\n",
    "#groupby the gender and calculate average salary per gender\n",
    "genders = job_data2.groupBy(\"Gender\").agg(avg(\"New_Salary\").alias(\"Average_Salary\"))\n",
    "genders.show()"
   ]
  },
  {
   "cell_type": "code",
   "execution_count": 20,
   "id": "67fa535f-451c-45e0-b744-4511d270b962",
   "metadata": {},
   "outputs": [
    {
     "name": "stdout",
     "output_type": "stream",
     "text": [
      "+---+----------+----------+------+---------------+--------------------+---------+----------+-----------+---------------+------------+----------------+-----------------+----------------+----------------+\n",
      "| id|first_name| last_name|gender|           City|            JobTitle|   Salary|  Latitude|  Longitude|     Clean_City|Clean_Salary|      New_Salary| Updated_Latitude|   Female_Salary|     Male_Salary|\n",
      "+---+----------+----------+------+---------------+--------------------+---------+----------+-----------+---------------+------------+----------------+-----------------+----------------+----------------+\n",
      "|  1|   Melinde| Shilburne|Female|      Nowa Ruda| Assistant Professor|$57438.18|50.5774075| 16.4967184|      Nowa Ruda|    57438.18|   57438.1796875|       50.5774075|   57438.1796875|             0.0|\n",
      "|  2|  Kimberly|Von Welden|Female|         Bulgan|       Programmer II|$62846.60|48.8231572|103.5218199|         Bulgan|     62846.6|   62846.6015625|       48.8231572|   62846.6015625|             0.0|\n",
      "|  4|   Shannon| O'Griffin|  Male|  Divnomorskoye|Budget/Accounting...|$61489.23|44.5047212| 38.1300171|  Divnomorskoye|    61489.23|  61489.23046875|       44.5047212|             0.0|  61489.23046875|\n",
      "|  5|  Sherwood|   Macieja|  Male|      Mytishchi|            VP Sales|$63863.09|      NULL| 37.6489954|      Mytishchi|    63863.09|  63863.08984375|31.93397331237793|             0.0|  63863.08984375|\n",
      "|  6|     Maris|      Folk|Female|Kinsealy-Drinan|      Civil Engineer|$30101.16|53.4266145| -6.1644997|Kinsealy-Drinan|    30101.16|  30101.16015625|       53.4266145|  30101.16015625|             0.0|\n",
      "|  8|   Goddart|     Flear|  Male|      Trélissac|Desktop Support T...|$46116.36|45.1905186|  0.7423124|      Trélissac|    46116.36|    46116.359375|       45.1905186|             0.0|    46116.359375|\n",
      "|  9|      Roth|O'Cannavan|  Male|         Heitan|VP Product Manage...|$73697.10| 32.027934| 106.657113|         Heitan|     73697.1|   73697.1015625|        32.027934|             0.0|   73697.1015625|\n",
      "| 10|      Bran|   Trahear|  Male|       Arbeláez|Mechanical System...|$68098.42|  4.272793| -74.416014|       Arbeláez|    68098.42|    68098.421875|         4.272793|             0.0|    68098.421875|\n",
      "| 11|    Kylynn|   Lockart|Female|       El Cardo|Nuclear Power Eng...|$13604.63|     -5.85|-79.8833329|       El Cardo|    13604.63|13604.6298828125|            -5.85|13604.6298828125|             0.0|\n",
      "| 12|       Rey|    Meharg|Female|    Wangqingtuo|Systems Administr...|$73423.70| 39.172378| 116.931607|    Wangqingtuo|     73423.7|    73423.703125|        39.172378|    73423.703125|             0.0|\n",
      "| 13|      Kerr|    Braden|  Male|      Sułkowice|Compensation Analyst|$33432.99|49.8151822| 19.3771749|      Sułkowice|    33432.99|  33432.98828125|       49.8151822|             0.0|  33432.98828125|\n",
      "| 14|    Mickie| Whanstall|  Male|    Springfield|Assistant Media P...|$50838.53|42.1014803|-72.5766759|    Springfield|    50838.53|     50838.53125|       42.1014803|             0.0|     50838.53125|\n",
      "| 15|    Kaspar|     Pally|  Male|         Chrást|  Analyst Programmer|$40163.03|49.7923299| 13.4915324|         Chrást|    40163.03|     40163.03125|       49.7923299|             0.0|     40163.03125|\n",
      "| 16|    Norbie|    Gwyllt|  Male|         Xijiao|              Editor|$32492.73|43.4945737|  5.8978018|         Xijiao|    32492.73|  32492.73046875|       43.4945737|             0.0|  32492.73046875|\n",
      "| 17|    Claude|    Briant|Female|      Mieścisko|Research Assistan...|$51862.48|52.7441662| 17.3278637|      Mieścisko|    51862.48|  51862.48046875|       52.7441662|  51862.48046875|             0.0|\n",
      "| 18|     Thain|    Habbon|  Male| Foros do Trapo|     Design Engineer|$42135.67| 38.696249| -8.7098337| Foros do Trapo|    42135.67|    42135.671875|        38.696249|             0.0|    42135.671875|\n",
      "| 19|  Tiffanie|  Pattison|Female|    Jabungsisir|Senior Financial ...|$91925.08|-7.7232567|113.4686802|    Jabungsisir|    91925.08|    91925.078125|       -7.7232567|    91925.078125|             0.0|\n",
      "| 20|    Ettore|  Gerriets|  Male|          Pedra| Staff Accountant IV|$73921.33|40.7172049| -8.3625148|          Pedra|    73921.33|    73921.328125|       40.7172049|             0.0|    73921.328125|\n",
      "| 21|      Alon|  Chasteau|  Male|          Xin’e|     Web Developer I|$62755.85|  49.16291|  127.98658|          Xin’e|    62755.85|   62755.8515625|         49.16291|             0.0|   62755.8515625|\n",
      "| 22|   Guthrey|    Johnke|  Male|         Xijiao|         Developer I|$13708.03|40.7576842| 23.1342184|         Xijiao|    13708.03|13708.0302734375|       40.7576842|             0.0|13708.0302734375|\n",
      "+---+----------+----------+------+---------------+--------------------+---------+----------+-----------+---------------+------------+----------------+-----------------+----------------+----------------+\n",
      "only showing top 20 rows\n",
      "\n"
     ]
    }
   ],
   "source": [
    "#creating gender specific salarry columns\n",
    "df = job_data2.withColumn(\"Female_Salary\", when(col(\"Gender\") ==\"Female\", col(\"New_Salary\")).otherwise(lit(0)))\n",
    "df = df.withColumn(\"Male_Salary\", when(col(\"Gender\") == \"Male\",col(\"New_Salary\")).otherwise(lit(0)))\n",
    "\n",
    "df.show()\n"
   ]
  },
  {
   "cell_type": "code",
   "execution_count": 21,
   "id": "3c44303c-b4e4-42e7-8206-bda9453e9fa8",
   "metadata": {},
   "outputs": [
    {
     "name": "stdout",
     "output_type": "stream",
     "text": [
      "+--------------------+-------------------+------------------+\n",
      "|            JobTitle|Final_Female_Salary| Final_Male_Salary|\n",
      "+--------------------+-------------------+------------------+\n",
      "|Systems Administr...|    50590.474609375|  15540.9501953125|\n",
      "|   Media Manager III| 29586.436197916668|17381.920572916668|\n",
      "|  Recruiting Manager| 34848.452473958336|  26383.4951171875|\n",
      "|       Geologist III|       31749.046875|    12830.75390625|\n",
      "|        Geologist II|                0.0|   43293.865234375|\n",
      "|Database Administ...|                0.0|     52018.4609375|\n",
      "|   Financial Analyst|    23353.776953125|       39606.05625|\n",
      "|  Analyst Programmer|   16406.1287109375|  21042.9634765625|\n",
      "|Software Engineer II|                0.0|      74782.640625|\n",
      "|       Accountant IV|    82732.248046875|               0.0|\n",
      "|    Product Engineer|     41825.48359375|       20464.94375|\n",
      "|Software Test Eng...|   32218.6083984375|   27122.462890625|\n",
      "|Safety Technician...|                0.0|   29421.529296875|\n",
      "|    Junior Executive| 15752.220052083334|49510.330729166664|\n",
      "|Systems Administr...|        77059.21875|               0.0|\n",
      "|Human Resources A...|    24022.662109375| 16609.27783203125|\n",
      "|        VP Marketing|  7981.178385416667|52844.534830729164|\n",
      "|  Environmental Tech| 13706.980143229166|      45660.890625|\n",
      "|Mechanical System...| 31370.781901041668|44321.593098958336|\n",
      "| Assistant Professor|    22175.953515625|   26912.770703125|\n",
      "+--------------------+-------------------+------------------+\n",
      "only showing top 20 rows\n",
      "\n"
     ]
    }
   ],
   "source": [
    "# SALARY ANALYSIS BY JOB TITLE\n",
    "#grouping by job title and computing averages\n",
    "\n",
    "df = df.groupBy(\"JobTitle\").agg(\n",
    " avg(\"Female_Salary\").alias(\"Final_Female_Salary\"),\n",
    " avg(\"Male_Salary\").alias(\"Final_Male_Salary\"))\n",
    "df.show()\n"
   ]
  },
  {
   "cell_type": "code",
   "execution_count": 22,
   "id": "c16ddffe-8f6a-4b41-916b-3582673be45e",
   "metadata": {},
   "outputs": [
    {
     "name": "stdout",
     "output_type": "stream",
     "text": [
      "+--------------------+-------------------+------------------+-------------------+\n",
      "|            JobTitle|Final_Female_Salary| Final_Male_Salary|              Delta|\n",
      "+--------------------+-------------------+------------------+-------------------+\n",
      "|Systems Administr...|    50590.474609375|  15540.9501953125|   35049.5244140625|\n",
      "|   Media Manager III| 29586.436197916668|17381.920572916668|       12204.515625|\n",
      "|  Recruiting Manager| 34848.452473958336|  26383.4951171875|  8464.957356770836|\n",
      "|       Geologist III|       31749.046875|    12830.75390625|     18918.29296875|\n",
      "|        Geologist II|                0.0|   43293.865234375|   -43293.865234375|\n",
      "|Database Administ...|                0.0|     52018.4609375|     -52018.4609375|\n",
      "|   Financial Analyst|    23353.776953125|       39606.05625|   -16252.279296875|\n",
      "|  Analyst Programmer|   16406.1287109375|  21042.9634765625| -4636.834765625001|\n",
      "|Software Engineer II|                0.0|      74782.640625|      -74782.640625|\n",
      "|       Accountant IV|    82732.248046875|               0.0|    82732.248046875|\n",
      "|    Product Engineer|     41825.48359375|       20464.94375| 21360.539843750004|\n",
      "|Software Test Eng...|   32218.6083984375|   27122.462890625|    5096.1455078125|\n",
      "|Safety Technician...|                0.0|   29421.529296875|   -29421.529296875|\n",
      "|    Junior Executive| 15752.220052083334|49510.330729166664| -33758.11067708333|\n",
      "|Systems Administr...|        77059.21875|               0.0|        77059.21875|\n",
      "|Human Resources A...|    24022.662109375| 16609.27783203125|   7413.38427734375|\n",
      "|        VP Marketing|  7981.178385416667|52844.534830729164|  -44863.3564453125|\n",
      "|  Environmental Tech| 13706.980143229166|      45660.890625|-31953.910481770836|\n",
      "|Mechanical System...| 31370.781901041668|44321.593098958336|-12950.811197916668|\n",
      "| Assistant Professor|    22175.953515625|   26912.770703125| -4736.817187500001|\n",
      "+--------------------+-------------------+------------------+-------------------+\n",
      "only showing top 20 rows\n",
      "\n"
     ]
    }
   ],
   "source": [
    "#computing salary difference between avg male and avg female slaary\n",
    "df = df.withColumn(\"Delta\", col(\"Final_Female_Salary\") -\n",
    "col(\"Final_Male_Salary\"))\n",
    "df.show()\n",
    "\n"
   ]
  },
  {
   "cell_type": "markdown",
   "id": "4b5ea91d-36e9-412d-94f9-a9c3580c6149",
   "metadata": {},
   "source": [
    "# identifying highest paying city"
   ]
  },
  {
   "cell_type": "code",
   "execution_count": 23,
   "id": "1b473c02-9e5c-4dee-8fcf-490dfaba646f",
   "metadata": {},
   "outputs": [
    {
     "name": "stdout",
     "output_type": "stream",
     "text": [
      "+-----------------+--------------+\n",
      "|             City|Average_Salary|\n",
      "+-----------------+--------------+\n",
      "|        Mesopotam|   99948.28125|\n",
      "|       Zhongcheng|  99942.921875|\n",
      "|           Caxias| 99786.3984375|\n",
      "|      Karangtawar| 99638.9921875|\n",
      "|        Itabaiana|   99502.15625|\n",
      "|           Pasian|   99421.34375|\n",
      "|           Webuye|  99368.546875|\n",
      "|      Yuktae-dong|  99250.828125|\n",
      "|           Zinder|   99222.84375|\n",
      "|   Timiryazevskiy|    99142.9375|\n",
      "|        Sawahbaru| 99013.7109375|\n",
      "|          Madimba| 98737.8671875|\n",
      "|         Huangshi|   98690.34375|\n",
      "|          Gharyan|    98679.3125|\n",
      "|         Yŏnan-ŭp|  98628.609375|\n",
      "|     Wringinputih| 98603.8203125|\n",
      "|Monte da Boavista|   98586.71875|\n",
      "|          Klukeng| 98439.4921875|\n",
      "|         Murmashi|   98226.15625|\n",
      "|        Fox Creek|       98138.0|\n",
      "+-----------------+--------------+\n",
      "only showing top 20 rows\n",
      "\n"
     ]
    }
   ],
   "source": [
    "# calculating average salary by city\n",
    "city_avg = job_data2.groupBy(\"City\").agg(avg(\"New_Salary\").alias(\"Average_Salary\"))\n",
    "\n",
    "#sorting city by highest salary - lowest\n",
    "city_avg = city_avg.sort(col(\"Average_Salary\").desc())\n",
    "city_avg.show()"
   ]
  },
  {
   "cell_type": "markdown",
   "id": "cbf82a89-7eba-4f9b-96ef-be900c27f26f",
   "metadata": {},
   "source": [
    "# Data Aggregations and exporrting dataframes"
   ]
  },
  {
   "cell_type": "code",
   "execution_count": 25,
   "id": "ec0d6e3c-04c0-43de-8440-3f5e7e50c061",
   "metadata": {},
   "outputs": [
    {
     "name": "stdout",
     "output_type": "stream",
     "text": [
      "+------+--------------------+------------------+----------+----------+\n",
      "|Gender|        Total_Salary|    Average_Salary|Min_Salary|Max_Salary|\n",
      "+------+--------------------+------------------+----------+----------+\n",
      "|Female|2.7281852561523438E7|55677.250125558036|  10616.44|  99948.28|\n",
      "|  Male|2.8123435678710938E7| 55361.09385573019|  10101.92|  99942.92|\n",
      "+------+--------------------+------------------+----------+----------+\n",
      "\n"
     ]
    }
   ],
   "source": [
    "df = job_data2.withColumn(\"Clean_Salary\", col(\"Salary\").substr(2,\n",
    "100).cast(\"float\"))\n",
    "\n",
    "#performing multiple aggreggations\n",
    "from pyspark.sql.functions import avg, min, max\n",
    "df1 = df.groupBy(\"Gender\").agg(\n",
    " sum(\"Clean_Salary\").alias(\"Total_Salary\"),\n",
    " avg(\"Clean_Salary\").alias(\"Average_Salary\"),\n",
    " min(\"Clean_Salary\").alias(\"Min_Salary\"),\n",
    " max(\"Clean_Salary\").alias(\"Max_Salary\")\n",
    ")\n",
    "df1.show()"
   ]
  },
  {
   "cell_type": "code",
   "execution_count": 26,
   "id": "f5a8eaa5-4091-4ac4-a095-f053b3d3fe34",
   "metadata": {},
   "outputs": [
    {
     "name": "stdout",
     "output_type": "stream",
     "text": [
      "+------+-----------------+----------------+----------------+----------+----------+\n",
      "|Gender|             City|    Total_Salary|  Average_Salary|Min_Salary|Max_Salary|\n",
      "+------+-----------------+----------------+----------------+----------+----------+\n",
      "|Female|      Trollhättan|106623.369140625|53311.6845703125|  26830.47|   79792.9|\n",
      "|  Male|          Wenshao| 18941.509765625| 18941.509765625|  18941.51|  18941.51|\n",
      "|Female|            Lanas| 13765.900390625| 13765.900390625|   13765.9|   13765.9|\n",
      "|  Male|            Mörön|    77940.078125|    77940.078125|  77940.08|  77940.08|\n",
      "|Female|             Same|   73369.7265625|   73369.7265625|  73369.73|  73369.73|\n",
      "|Female|          Sawahan|  24608.83984375|  24608.83984375|  24608.84|  24608.84|\n",
      "|  Male|Monte da Boavista|     98586.71875|     98586.71875|  98586.72|  98586.72|\n",
      "|Female|         Nusajaya|    71637.921875|    71637.921875|  71637.92|  71637.92|\n",
      "|Female|            Kista|   96192.3984375|   96192.3984375|   96192.4|   96192.4|\n",
      "|  Male|       Pittsburgh|    83121.890625|    83121.890625|  83121.89|  83121.89|\n",
      "|  Male|       Neftegorsk|     97531.46875|     97531.46875|  97531.47|  97531.47|\n",
      "|Female|          Yanaoca|     54906.21875|     54906.21875|  54906.22|  54906.22|\n",
      "|  Male|            Tambo|  40264.91015625|  40264.91015625|  40264.91|  40264.91|\n",
      "|  Male|        Mytishchi|  63863.08984375|  63863.08984375|  63863.09|  63863.09|\n",
      "|  Male|            Pedra|    73921.328125|    73921.328125|  73921.33|  73921.33|\n",
      "|Female|            Dhaka|    68368.546875|    68368.546875|  68368.55|  68368.55|\n",
      "|  Male|        Mosteiros|  62508.87109375|  62508.87109375|  62508.87|  62508.87|\n",
      "|  Male|           Roanne|   93339.9921875|   93339.9921875|  93339.99|  93339.99|\n",
      "|Female|        Eindhoven| 24042.099609375| 24042.099609375|   24042.1|   24042.1|\n",
      "|Female|           Sanzao|     70049.46875|     70049.46875|  70049.47|  70049.47|\n",
      "+------+-----------------+----------------+----------------+----------+----------+\n",
      "only showing top 20 rows\n",
      "\n"
     ]
    }
   ],
   "source": [
    "#grouping gender and city\n",
    "df1 = df.groupBy(\"Gender\", \"City\").agg(\n",
    " sum(\"Clean_Salary\").alias(\"Total_Salary\"),\n",
    " avg(\"Clean_Salary\").alias(\"Average_Salary\"),\n",
    " min(\"Clean_Salary\").alias(\"Min_Salary\"),\n",
    " max(\"Clean_Salary\").alias(\"Max_Salary\")\n",
    ")\n",
    "df1.show()"
   ]
  },
  {
   "cell_type": "markdown",
   "id": "3cc1aa74-91c1-4d9b-a317-194ba2fa3cb0",
   "metadata": {},
   "source": [
    "# Exporting DataFrames"
   ]
  },
  {
   "cell_type": "code",
   "execution_count": 28,
   "id": "c66cfa72-82eb-45cc-9770-b1f21c4d3c3e",
   "metadata": {},
   "outputs": [
    {
     "ename": "AnalysisException",
     "evalue": "[PATH_ALREADY_EXISTS] Path file:/home/jovyan/work/Lesson5/PySpark/df1.csv already exists. Set mode as \"overwrite\" to overwrite the existing path.",
     "output_type": "error",
     "traceback": [
      "\u001b[0;31m---------------------------------------------------------------------------\u001b[0m",
      "\u001b[0;31mAnalysisException\u001b[0m                         Traceback (most recent call last)",
      "Cell \u001b[0;32mIn[28], line 4\u001b[0m\n\u001b[1;32m      1\u001b[0m \u001b[38;5;66;03m#we want to save the data that we grouped together (gender and city) to a new dataframe\u001b[39;00m\n\u001b[1;32m      2\u001b[0m \n\u001b[1;32m      3\u001b[0m \u001b[38;5;66;03m#writing to a csv\u001b[39;00m\n\u001b[0;32m----> 4\u001b[0m \u001b[43mdf1\u001b[49m\u001b[38;5;241;43m.\u001b[39;49m\u001b[43mwrite\u001b[49m\u001b[38;5;241;43m.\u001b[39;49m\u001b[43mcsv\u001b[49m\u001b[43m(\u001b[49m\u001b[38;5;124;43m\"\u001b[39;49m\u001b[38;5;124;43mdf1.csv\u001b[39;49m\u001b[38;5;124;43m\"\u001b[39;49m\u001b[43m)\u001b[49m\n\u001b[1;32m      7\u001b[0m \u001b[38;5;66;03m#writing to json\u001b[39;00m\n\u001b[1;32m      8\u001b[0m df1\u001b[38;5;241m.\u001b[39mwrite\u001b[38;5;241m.\u001b[39mjson(\u001b[38;5;124m\"\u001b[39m\u001b[38;5;124mdf1.json\u001b[39m\u001b[38;5;124m\"\u001b[39m)\n",
      "File \u001b[0;32m/usr/local/spark/python/pyspark/sql/readwriter.py:1864\u001b[0m, in \u001b[0;36mDataFrameWriter.csv\u001b[0;34m(self, path, mode, compression, sep, quote, escape, header, nullValue, escapeQuotes, quoteAll, dateFormat, timestampFormat, ignoreLeadingWhiteSpace, ignoreTrailingWhiteSpace, charToEscapeQuoteEscaping, encoding, emptyValue, lineSep)\u001b[0m\n\u001b[1;32m   1845\u001b[0m \u001b[38;5;28mself\u001b[39m\u001b[38;5;241m.\u001b[39mmode(mode)\n\u001b[1;32m   1846\u001b[0m \u001b[38;5;28mself\u001b[39m\u001b[38;5;241m.\u001b[39m_set_opts(\n\u001b[1;32m   1847\u001b[0m     compression\u001b[38;5;241m=\u001b[39mcompression,\n\u001b[1;32m   1848\u001b[0m     sep\u001b[38;5;241m=\u001b[39msep,\n\u001b[0;32m   (...)\u001b[0m\n\u001b[1;32m   1862\u001b[0m     lineSep\u001b[38;5;241m=\u001b[39mlineSep,\n\u001b[1;32m   1863\u001b[0m )\n\u001b[0;32m-> 1864\u001b[0m \u001b[38;5;28;43mself\u001b[39;49m\u001b[38;5;241;43m.\u001b[39;49m\u001b[43m_jwrite\u001b[49m\u001b[38;5;241;43m.\u001b[39;49m\u001b[43mcsv\u001b[49m\u001b[43m(\u001b[49m\u001b[43mpath\u001b[49m\u001b[43m)\u001b[49m\n",
      "File \u001b[0;32m/usr/local/spark/python/lib/py4j-0.10.9.7-src.zip/py4j/java_gateway.py:1322\u001b[0m, in \u001b[0;36mJavaMember.__call__\u001b[0;34m(self, *args)\u001b[0m\n\u001b[1;32m   1316\u001b[0m command \u001b[38;5;241m=\u001b[39m proto\u001b[38;5;241m.\u001b[39mCALL_COMMAND_NAME \u001b[38;5;241m+\u001b[39m\\\n\u001b[1;32m   1317\u001b[0m     \u001b[38;5;28mself\u001b[39m\u001b[38;5;241m.\u001b[39mcommand_header \u001b[38;5;241m+\u001b[39m\\\n\u001b[1;32m   1318\u001b[0m     args_command \u001b[38;5;241m+\u001b[39m\\\n\u001b[1;32m   1319\u001b[0m     proto\u001b[38;5;241m.\u001b[39mEND_COMMAND_PART\n\u001b[1;32m   1321\u001b[0m answer \u001b[38;5;241m=\u001b[39m \u001b[38;5;28mself\u001b[39m\u001b[38;5;241m.\u001b[39mgateway_client\u001b[38;5;241m.\u001b[39msend_command(command)\n\u001b[0;32m-> 1322\u001b[0m return_value \u001b[38;5;241m=\u001b[39m \u001b[43mget_return_value\u001b[49m\u001b[43m(\u001b[49m\n\u001b[1;32m   1323\u001b[0m \u001b[43m    \u001b[49m\u001b[43manswer\u001b[49m\u001b[43m,\u001b[49m\u001b[43m \u001b[49m\u001b[38;5;28;43mself\u001b[39;49m\u001b[38;5;241;43m.\u001b[39;49m\u001b[43mgateway_client\u001b[49m\u001b[43m,\u001b[49m\u001b[43m \u001b[49m\u001b[38;5;28;43mself\u001b[39;49m\u001b[38;5;241;43m.\u001b[39;49m\u001b[43mtarget_id\u001b[49m\u001b[43m,\u001b[49m\u001b[43m \u001b[49m\u001b[38;5;28;43mself\u001b[39;49m\u001b[38;5;241;43m.\u001b[39;49m\u001b[43mname\u001b[49m\u001b[43m)\u001b[49m\n\u001b[1;32m   1325\u001b[0m \u001b[38;5;28;01mfor\u001b[39;00m temp_arg \u001b[38;5;129;01min\u001b[39;00m temp_args:\n\u001b[1;32m   1326\u001b[0m     \u001b[38;5;28;01mif\u001b[39;00m \u001b[38;5;28mhasattr\u001b[39m(temp_arg, \u001b[38;5;124m\"\u001b[39m\u001b[38;5;124m_detach\u001b[39m\u001b[38;5;124m\"\u001b[39m):\n",
      "File \u001b[0;32m/usr/local/spark/python/pyspark/errors/exceptions/captured.py:185\u001b[0m, in \u001b[0;36mcapture_sql_exception.<locals>.deco\u001b[0;34m(*a, **kw)\u001b[0m\n\u001b[1;32m    181\u001b[0m converted \u001b[38;5;241m=\u001b[39m convert_exception(e\u001b[38;5;241m.\u001b[39mjava_exception)\n\u001b[1;32m    182\u001b[0m \u001b[38;5;28;01mif\u001b[39;00m \u001b[38;5;129;01mnot\u001b[39;00m \u001b[38;5;28misinstance\u001b[39m(converted, UnknownException):\n\u001b[1;32m    183\u001b[0m     \u001b[38;5;66;03m# Hide where the exception came from that shows a non-Pythonic\u001b[39;00m\n\u001b[1;32m    184\u001b[0m     \u001b[38;5;66;03m# JVM exception message.\u001b[39;00m\n\u001b[0;32m--> 185\u001b[0m     \u001b[38;5;28;01mraise\u001b[39;00m converted \u001b[38;5;28;01mfrom\u001b[39;00m \u001b[38;5;28;01mNone\u001b[39;00m\n\u001b[1;32m    186\u001b[0m \u001b[38;5;28;01melse\u001b[39;00m:\n\u001b[1;32m    187\u001b[0m     \u001b[38;5;28;01mraise\u001b[39;00m\n",
      "\u001b[0;31mAnalysisException\u001b[0m: [PATH_ALREADY_EXISTS] Path file:/home/jovyan/work/Lesson5/PySpark/df1.csv already exists. Set mode as \"overwrite\" to overwrite the existing path."
     ]
    }
   ],
   "source": [
    "#we want to save the data that we grouped together (gender and city) to a new dataframe\n",
    "\n",
    "#writing to a csv\n",
    "df1.write.csv(\"df1.csv\")\n",
    "\n",
    "\n",
    "#writing to json\n",
    "df12.write.json(\"df1.json\")\n",
    "\n",
    "#writing to parquet\n",
    "df13.write.parquet(\"df1.parquet\")\n"
   ]
  },
  {
   "cell_type": "code",
   "execution_count": null,
   "id": "e1a9359d-50d4-4564-9f82-0a5a4dbdeabc",
   "metadata": {},
   "outputs": [],
   "source": []
  }
 ],
 "metadata": {
  "kernelspec": {
   "display_name": "Python 3 (ipykernel)",
   "language": "python",
   "name": "python3"
  },
  "language_info": {
   "codemirror_mode": {
    "name": "ipython",
    "version": 3
   },
   "file_extension": ".py",
   "mimetype": "text/x-python",
   "name": "python",
   "nbconvert_exporter": "python",
   "pygments_lexer": "ipython3",
   "version": "3.11.6"
  }
 },
 "nbformat": 4,
 "nbformat_minor": 5
}
