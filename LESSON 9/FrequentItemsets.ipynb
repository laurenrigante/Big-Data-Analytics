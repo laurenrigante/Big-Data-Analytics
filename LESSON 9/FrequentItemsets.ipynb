{
  "nbformat": 4,
  "nbformat_minor": 0,
  "metadata": {
    "colab": {
      "provenance": []
    },
    "kernelspec": {
      "name": "python3",
      "display_name": "Python 3"
    },
    "language_info": {
      "name": "python"
    }
  },
  "cells": [
    {
      "cell_type": "markdown",
      "source": [
        "# Frequent Itemset Mining & Association Rules\n",
        "\n",
        "## **Objective**\n",
        " In this activity, students will:\n",
        " 1. Implement the Apriori Algorithm to mine frequent itemsets.\n",
        " 2. Generate association rules from the frequent itemsets.\n",
        " 3. Calculate support, confidence, and lift metrics.\n",
        " 4. Apply the algorithm on a sample dataset and analyze the results."
      ],
      "metadata": {
        "id": "upDDErHixXFC"
      }
    },
    {
      "cell_type": "markdown",
      "source": [
        "#1 Implement the Apriori Algorithm to mine frequent itemsets"
      ],
      "metadata": {
        "id": "48wtup9UxcCu"
      }
    },
    {
      "cell_type": "code",
      "execution_count": 1,
      "metadata": {
        "id": "w7DBq7ECxVOG"
      },
      "outputs": [],
      "source": [
        "from itertools import combinations\n",
        "\n",
        "def generate_candidates(frequent_itemsets, k):\n",
        "    \"\"\"Generate candidate itemsets of size k from frequent itemsets of size k-1\"\"\"\n",
        "    candidates = set()\n",
        "    frequent_items = list(frequent_itemsets.keys())\n",
        "    for i in range(len(frequent_items)):\n",
        "        for j in range(i+1, len(frequent_items)):\n",
        "            union_set = frequent_items[i] | frequent_items[j]\n",
        "            if len(union_set) == k:\n",
        "                candidates.add(frozenset(union_set))\n",
        "    return candidates\n"
      ]
    },
    {
      "cell_type": "code",
      "source": [
        "def get_frequent_itemsets(transactions, candidates, min_support):\n",
        "    \"\"\"Filter candidates to get frequent itemsets based on support threshold\"\"\"\n",
        "    itemset_counts = {}\n",
        "    for transaction in transactions:\n",
        "        for candidate in candidates:\n",
        "            if candidate.issubset(transaction):\n",
        "                itemset_counts[candidate] = itemset_counts.get(candidate, 0) + 1\n",
        "    total_transactions = len(transactions)\n",
        "    return {itemset: count / total_transactions for itemset, count in itemset_counts.items() if count / total_transactions >= min_support}"
      ],
      "metadata": {
        "id": "JuAYSWgYyCR6"
      },
      "execution_count": 2,
      "outputs": []
    },
    {
      "cell_type": "code",
      "source": [
        "def apriori(transactions, min_support):\n",
        "    \"\"\"Apriori Algorithm to mine frequent itemsets\"\"\"\n",
        "    single_items = {frozenset([item]) for transaction in transactions for item in transaction}\n",
        "    frequent_itemsets = get_frequent_itemsets(transactions, single_items, min_support)\n",
        "    all_frequent_itemsets = frequent_itemsets.copy()\n",
        "    k = 2\n",
        "    while frequent_itemsets:\n",
        "        candidates = generate_candidates(frequent_itemsets, k)\n",
        "        frequent_itemsets = get_frequent_itemsets(transactions, candidates, min_support)\n",
        "        all_frequent_itemsets.update(frequent_itemsets)\n",
        "        k += 1\n",
        "    return all_frequent_itemsets"
      ],
      "metadata": {
        "id": "qw4lk7dGyDKz"
      },
      "execution_count": 3,
      "outputs": []
    },
    {
      "cell_type": "code",
      "source": [
        "def generate_association_rules(frequent_itemsets, transactions, min_confidence):\n",
        "    \"\"\"Generate association rules from frequent itemsets\"\"\"\n",
        "    rules = []\n",
        "    for itemset in frequent_itemsets:\n",
        "        if len(itemset) > 1:\n",
        "            for i in range(1, len(itemset)):\n",
        "                for antecedent in combinations(itemset, i):\n",
        "                    antecedent = frozenset(antecedent)\n",
        "                    consequent = itemset - antecedent\n",
        "                    support_itemset = frequent_itemsets[itemset]\n",
        "                    support_antecedent = frequent_itemsets[antecedent]\n",
        "                    confidence = support_itemset / support_antecedent\n",
        "                    if confidence >= min_confidence:\n",
        "                        rules.append((antecedent, consequent, confidence))\n",
        "    return rules\n"
      ],
      "metadata": {
        "id": "8u9ujKq1yTdE"
      },
      "execution_count": 4,
      "outputs": []
    },
    {
      "cell_type": "code",
      "source": [
        "\n",
        "# Sample dataset: Market Basket Transactions\n",
        "transactions = [\n",
        "    {'Milk', 'Diapers', 'Beer', 'Bread'},\n",
        "    {'Milk', 'Diapers', 'Beer'},\n",
        "    {'Milk', 'Diapers'},\n",
        "    {'Milk', 'Bread'},\n",
        "    {'Diapers', 'Beer'},\n",
        "    {'Diapers', 'Bread'},\n",
        "    {'Beer', 'Bread'},\n",
        "    {'Beer'},\n",
        "    {'Bread'},\n",
        "    {'Milk', 'Bread'},\n",
        "    {'Milk', 'Diapers', 'Beer', 'Bread'},\n",
        "    {'Milk', 'Diapers', 'Beer'},\n",
        "    {'Milk', 'Diapers'},\n",
        "    {'Milk', 'Bread'},\n",
        "    {'Diapers', 'Beer'},\n",
        "]\n",
        "\n",
        "# Set support and confidence thresholds\n",
        "min_support = 0.4\n",
        "min_confidence = 0.6\n"
      ],
      "metadata": {
        "id": "jV0BockgyXwX"
      },
      "execution_count": 30,
      "outputs": []
    },
    {
      "cell_type": "code",
      "source": [
        "# Step 1: Mine Frequent Itemsets\n",
        "frequent_itemsets = apriori(transactions, min_support)\n",
        "print(\"Frequent Itemsets:\")\n",
        "for itemset, support in frequent_itemsets.items():\n",
        "    print(f\"{set(itemset)}: {support:.2f}\")"
      ],
      "metadata": {
        "colab": {
          "base_uri": "https://localhost:8080/",
          "height": 0
        },
        "id": "Qbyv5qO8yaw_",
        "outputId": "d0eb4249-d581-4ddb-8ec2-f25189605328"
      },
      "execution_count": 31,
      "outputs": [
        {
          "output_type": "stream",
          "name": "stdout",
          "text": [
            "Frequent Itemsets:\n",
            "{'Milk'}: 0.60\n",
            "{'Bread'}: 0.53\n",
            "{'Diapers'}: 0.60\n",
            "{'Beer'}: 0.53\n",
            "{'Beer', 'Diapers'}: 0.40\n",
            "{'Milk', 'Diapers'}: 0.40\n"
          ]
        }
      ]
    },
    {
      "cell_type": "code",
      "source": [
        "# Step 2: Generate Association Rules\n",
        "association_rules = generate_association_rules(frequent_itemsets, transactions, min_confidence)\n",
        "print(\"\\nAssociation Rules:\")\n",
        "for antecedent, consequent, confidence in association_rules:\n",
        "    print(f\"{set(antecedent)} -> {set(consequent)} (Confidence: {confidence:.2f})\")"
      ],
      "metadata": {
        "colab": {
          "base_uri": "https://localhost:8080/",
          "height": 0
        },
        "id": "EdiURX6Bydgw",
        "outputId": "6c03a2d6-95ac-4191-ab8e-742408750853"
      },
      "execution_count": 32,
      "outputs": [
        {
          "output_type": "stream",
          "name": "stdout",
          "text": [
            "\n",
            "Association Rules:\n",
            "{'Beer'} -> {'Diapers'} (Confidence: 0.75)\n",
            "{'Diapers'} -> {'Beer'} (Confidence: 0.67)\n",
            "{'Milk'} -> {'Diapers'} (Confidence: 0.67)\n",
            "{'Diapers'} -> {'Milk'} (Confidence: 0.67)\n"
          ]
        }
      ]
    },
    {
      "cell_type": "code",
      "source": [],
      "metadata": {
        "id": "TINdzUhhyfEQ"
      },
      "execution_count": null,
      "outputs": []
    },
    {
      "cell_type": "markdown",
      "source": [
        "\n",
        "# **Class Activity Questions:**\n",
        " 1. Run the provided script and analyze the output. Which itemsets are frequent?\n",
        " 2. Modify the support threshold and observe how the frequent itemsets change.\n",
        " 3. Adjust the confidence level and check how the association rules change.\n",
        " 4. Add new transactions to the dataset and rerun the script. What impact does this have?\n",
        " 5. What real-world applications of association rule mining can you think of beyond market basket analysis?\n"
      ],
      "metadata": {
        "id": "kpbr1w8Lyg6E"
      }
    },
    {
      "cell_type": "markdown",
      "source": [
        "1. The frequent itemsets are those that meet/exceed the minimum threshold of 0.4 . The single items that are frequent are milk, bread, beer, diapers. The 2-item frequent itemsets are {Beer,milk},{Beer,diapers},{milk,bread},{milk,diapers}. The 3 item frequent itemset  is {beer,milk,diapers}"
      ],
      "metadata": {
        "id": "caucoG-w03Km"
      }
    },
    {
      "cell_type": "markdown",
      "source": [
        "2. Modifying the support threshold to 0.6 significantly lowers the number of frequent itemsets.\n",
        "\n",
        "- {'Milk'}: 0.80\n",
        "- {'Diapers'}: 0.80\n",
        "- {'Beer'}: 0.60\n",
        "- {'Milk', 'Diapers'}: 0.60\n",
        "- {'Beer', 'Diapers'}: 0.60"
      ],
      "metadata": {
        "id": "JBYcDQ2C1Xcu"
      }
    },
    {
      "cell_type": "markdown",
      "source": [
        "3. Leaving the support level at 0.4 and modifying confidence level to 0.9. The assocition rule doesnt change, becasue right now all rules have a confidence of 1, so whether the confidene is 0.75 or 0.9, they confidence of 1 is higher so they remain.\n",
        "\n",
        "\n",
        "\n",
        "Changing support to 0.4, and confidence to 0.9 only gives us 1 assocaiton rule\n",
        "\n",
        "{'Beer'} -> {'Diapers'} (Confidence: 1.00)"
      ],
      "metadata": {
        "id": "cdzcnTav1s_T"
      }
    },
    {
      "cell_type": "markdown",
      "source": [
        "4. adding the following transactions with support 0.4 and confidence 0.75\n",
        "- {'Diapers', 'Bread'},\n",
        "- {'Beer', 'Bread'},\n",
        "- {'Beer'},\n",
        "-  {'Bread'},\n",
        "- {'Milk', 'Bread'},\n",
        "-  {'Milk', 'Diapers', 'Beer', 'Bread'},\n",
        "- {'Milk', 'Diapers', 'Beer'},\n",
        "-  {'Milk', 'Diapers'},\n",
        "-  {'Milk', 'Bread'},\n",
        "-  {'Diapers', 'Beer'},\n",
        "\n",
        "\n",
        "this gives us the following frequent itemsets:\n",
        "\n",
        "* {'Milk'}: 0.60\n",
        "* {'Bread'}: 0.53\n",
        "* {'Diapers'}: 0.60\n",
        "* {'Beer'}: 0.53\n",
        "* {'Beer', 'Diapers'}: 0.40\n",
        "* {'Milk', 'Diapers'}: 0.40\n",
        "\n",
        "### and the following asociation rule : Association Rules:\n",
        "{'Beer'} -> {'Diapers'} (Confidence: 0.75)\n",
        "\n",
        "\n",
        "\n",
        "Lowering confidence threshold to 0.6 give us\n",
        "Association Rules:\n",
        "{'Beer'} -> {'Diapers'} (Confidence: 0.75)\n",
        "\n",
        "{'Diapers'} -> {'Beer'} (Confidence: 0.67)\n",
        "\n",
        "{'Milk'} -> {'Diapers'} (Confidence: 0.67)\n",
        "\n",
        "{'Diapers'} -> {'Milk'} (Confidence: 0.67)\n",
        "\n",
        "\n",
        "\n",
        "Adding more transactions caused some previously frequent itemsets to drop below the threshold while increasing the frequency of others (like Bread and Beer).\n",
        "\n",
        "\n",
        "Lowering the confidence threshold resulted in more association rules, meaning that some strong but slightly less confident rules became visible.\n",
        "\n",
        "\n",
        "Some patterns remain consistent, such as the strong association between Beer and Diapers, which is a well-known market basket pattern."
      ],
      "metadata": {
        "id": "OFPOoTAx2RYP"
      }
    },
    {
      "cell_type": "markdown",
      "source": [
        "5. Here are some other  real world applications of association rule mining\n",
        "\n",
        "## Healthcare & Medical Diagnosis\n",
        "- Disease Prediction: Identifying common symptom-disease relationships (e.g., if a patient has symptoms A and B, they may have disease X).\n",
        "- Patient Risk Analysis: Detecting factors that contribute to high-risk patients (e.g., diabetes and high blood pressure often leading to heart disease).\n",
        "\n",
        "\n",
        "## Fraud Detection\n",
        "- Credit Card Fraud: Identifying unusual spending patterns that may indicate fraudulent activity (e.g., a sudden purchase of high-value items in multiple locations).\n",
        "\n",
        "## Cybersecurity & Intrusion Detection\n",
        "- Malware Detection: Identifying combinations of activities or behaviors that indicate potential cyber threats.\n",
        "- User Authentication: Detecting abnormal login behaviors that deviate from a user’s normal activity.\n",
        "\n",
        "## Recommendation Systems\n",
        "- E-commerce & Retail: Suggesting products frequently bought together (e.g., Amazon’s “Customers who bought this also bought…”).\n",
        "\n",
        "## Social Media & User Behavior Analysis\n",
        "- Friend Suggestions: Identifying people with similar connections and interactions (e.g., Facebook’s “People You May Know”).\n",
        "- Content Personalization: Finding common patterns in likes, shares, and comments to suggest relevant posts."
      ],
      "metadata": {
        "id": "5QvaSbc84mua"
      }
    }
  ]
}